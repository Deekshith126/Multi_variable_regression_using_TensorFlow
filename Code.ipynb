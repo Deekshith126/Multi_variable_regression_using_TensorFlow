{
 "cells": [
  {
   "cell_type": "code",
   "execution_count": 1,
   "metadata": {
    "_cell_guid": "b1076dfc-b9ad-4769-8c92-a6c4dae69d19",
    "_uuid": "8f2839f25d086af736a60e9eeb907d3b93b6e0e5"
   },
   "outputs": [
    {
     "name": "stdout",
     "output_type": "stream",
     "text": [
      "/kaggle/input/train.csv\n",
      "/kaggle/input/data_description.txt\n",
      "/kaggle/input/sample_submission.csv\n",
      "/kaggle/input/test.csv\n"
     ]
    }
   ],
   "source": [
    "# This Python 3 environment comes with many helpful analytics libraries installed\n",
    "# It is defined by the kaggle/python docker image: https://github.com/kaggle/docker-python\n",
    "# For example, here's several helpful packages to load in \n",
    "\n",
    "import numpy as np # linear algebra\n",
    "import pandas as pd # data processing, CSV file I/O (e.g. pd.read_csv)\n",
    "\n",
    "# Input data files are available in the \"../input/\" directory.\n",
    "# For example, running this (by clicking run or pressing Shift+Enter) will list all files under the input directory\n",
    "\n",
    "import os\n",
    "for dirname, _, filenames in os.walk('/kaggle/input'):\n",
    "    for filename in filenames:\n",
    "        print(os.path.join(dirname, filename))\n",
    "\n",
    "# Any results you write to the current directory are saved as output."
   ]
  },
  {
   "cell_type": "code",
   "execution_count": 2,
   "metadata": {},
   "outputs": [],
   "source": [
    "import matplotlib.pyplot as plt\n",
    "%matplotlib inline\n",
    "import seaborn as sns\n",
    "import warnings\n",
    "warnings.filterwarnings('ignore')\n",
    "from sklearn.metrics import accuracy_score"
   ]
  },
  {
   "cell_type": "code",
   "execution_count": 3,
   "metadata": {},
   "outputs": [],
   "source": [
    "raw_train=pd.read_csv('/kaggle/input/train.csv')\n",
    "raw_test=pd.read_csv('/kaggle/input/test.csv')"
   ]
  },
  {
   "cell_type": "code",
   "execution_count": 4,
   "metadata": {},
   "outputs": [
    {
     "name": "stdout",
     "output_type": "stream",
     "text": [
      "shape of train set (1460, 81)\n"
     ]
    },
    {
     "data": {
      "text/html": [
       "<div>\n",
       "<style scoped>\n",
       "    .dataframe tbody tr th:only-of-type {\n",
       "        vertical-align: middle;\n",
       "    }\n",
       "\n",
       "    .dataframe tbody tr th {\n",
       "        vertical-align: top;\n",
       "    }\n",
       "\n",
       "    .dataframe thead th {\n",
       "        text-align: right;\n",
       "    }\n",
       "</style>\n",
       "<table border=\"1\" class=\"dataframe\">\n",
       "  <thead>\n",
       "    <tr style=\"text-align: right;\">\n",
       "      <th></th>\n",
       "      <th>Id</th>\n",
       "      <th>MSSubClass</th>\n",
       "      <th>MSZoning</th>\n",
       "      <th>LotFrontage</th>\n",
       "      <th>LotArea</th>\n",
       "      <th>Street</th>\n",
       "      <th>Alley</th>\n",
       "      <th>LotShape</th>\n",
       "      <th>LandContour</th>\n",
       "      <th>Utilities</th>\n",
       "      <th>...</th>\n",
       "      <th>PoolArea</th>\n",
       "      <th>PoolQC</th>\n",
       "      <th>Fence</th>\n",
       "      <th>MiscFeature</th>\n",
       "      <th>MiscVal</th>\n",
       "      <th>MoSold</th>\n",
       "      <th>YrSold</th>\n",
       "      <th>SaleType</th>\n",
       "      <th>SaleCondition</th>\n",
       "      <th>SalePrice</th>\n",
       "    </tr>\n",
       "  </thead>\n",
       "  <tbody>\n",
       "    <tr>\n",
       "      <td>0</td>\n",
       "      <td>1</td>\n",
       "      <td>60</td>\n",
       "      <td>RL</td>\n",
       "      <td>65.0</td>\n",
       "      <td>8450</td>\n",
       "      <td>Pave</td>\n",
       "      <td>NaN</td>\n",
       "      <td>Reg</td>\n",
       "      <td>Lvl</td>\n",
       "      <td>AllPub</td>\n",
       "      <td>...</td>\n",
       "      <td>0</td>\n",
       "      <td>NaN</td>\n",
       "      <td>NaN</td>\n",
       "      <td>NaN</td>\n",
       "      <td>0</td>\n",
       "      <td>2</td>\n",
       "      <td>2008</td>\n",
       "      <td>WD</td>\n",
       "      <td>Normal</td>\n",
       "      <td>208500</td>\n",
       "    </tr>\n",
       "  </tbody>\n",
       "</table>\n",
       "<p>1 rows × 81 columns</p>\n",
       "</div>"
      ],
      "text/plain": [
       "   Id  MSSubClass MSZoning  LotFrontage  LotArea Street Alley LotShape  \\\n",
       "0   1          60       RL         65.0     8450   Pave   NaN      Reg   \n",
       "\n",
       "  LandContour Utilities  ... PoolArea PoolQC Fence MiscFeature MiscVal MoSold  \\\n",
       "0         Lvl    AllPub  ...        0    NaN   NaN         NaN       0      2   \n",
       "\n",
       "  YrSold  SaleType  SaleCondition  SalePrice  \n",
       "0   2008        WD         Normal     208500  \n",
       "\n",
       "[1 rows x 81 columns]"
      ]
     },
     "metadata": {},
     "output_type": "display_data"
    }
   ],
   "source": [
    "from IPython.display import display\n",
    "print('shape of train set',raw_train.shape)\n",
    "display(raw_train.head(1))"
   ]
  },
  {
   "cell_type": "code",
   "execution_count": 5,
   "metadata": {},
   "outputs": [
    {
     "name": "stdout",
     "output_type": "stream",
     "text": [
      "shape of test set (1459, 80)\n"
     ]
    },
    {
     "data": {
      "text/html": [
       "<div>\n",
       "<style scoped>\n",
       "    .dataframe tbody tr th:only-of-type {\n",
       "        vertical-align: middle;\n",
       "    }\n",
       "\n",
       "    .dataframe tbody tr th {\n",
       "        vertical-align: top;\n",
       "    }\n",
       "\n",
       "    .dataframe thead th {\n",
       "        text-align: right;\n",
       "    }\n",
       "</style>\n",
       "<table border=\"1\" class=\"dataframe\">\n",
       "  <thead>\n",
       "    <tr style=\"text-align: right;\">\n",
       "      <th></th>\n",
       "      <th>Id</th>\n",
       "      <th>MSSubClass</th>\n",
       "      <th>MSZoning</th>\n",
       "      <th>LotFrontage</th>\n",
       "      <th>LotArea</th>\n",
       "      <th>Street</th>\n",
       "      <th>Alley</th>\n",
       "      <th>LotShape</th>\n",
       "      <th>LandContour</th>\n",
       "      <th>Utilities</th>\n",
       "      <th>...</th>\n",
       "      <th>ScreenPorch</th>\n",
       "      <th>PoolArea</th>\n",
       "      <th>PoolQC</th>\n",
       "      <th>Fence</th>\n",
       "      <th>MiscFeature</th>\n",
       "      <th>MiscVal</th>\n",
       "      <th>MoSold</th>\n",
       "      <th>YrSold</th>\n",
       "      <th>SaleType</th>\n",
       "      <th>SaleCondition</th>\n",
       "    </tr>\n",
       "  </thead>\n",
       "  <tbody>\n",
       "    <tr>\n",
       "      <td>0</td>\n",
       "      <td>1461</td>\n",
       "      <td>20</td>\n",
       "      <td>RH</td>\n",
       "      <td>80.0</td>\n",
       "      <td>11622</td>\n",
       "      <td>Pave</td>\n",
       "      <td>NaN</td>\n",
       "      <td>Reg</td>\n",
       "      <td>Lvl</td>\n",
       "      <td>AllPub</td>\n",
       "      <td>...</td>\n",
       "      <td>120</td>\n",
       "      <td>0</td>\n",
       "      <td>NaN</td>\n",
       "      <td>MnPrv</td>\n",
       "      <td>NaN</td>\n",
       "      <td>0</td>\n",
       "      <td>6</td>\n",
       "      <td>2010</td>\n",
       "      <td>WD</td>\n",
       "      <td>Normal</td>\n",
       "    </tr>\n",
       "  </tbody>\n",
       "</table>\n",
       "<p>1 rows × 80 columns</p>\n",
       "</div>"
      ],
      "text/plain": [
       "     Id  MSSubClass MSZoning  LotFrontage  LotArea Street Alley LotShape  \\\n",
       "0  1461          20       RH         80.0    11622   Pave   NaN      Reg   \n",
       "\n",
       "  LandContour Utilities  ... ScreenPorch PoolArea PoolQC  Fence MiscFeature  \\\n",
       "0         Lvl    AllPub  ...         120        0    NaN  MnPrv         NaN   \n",
       "\n",
       "  MiscVal MoSold  YrSold  SaleType  SaleCondition  \n",
       "0       0      6    2010        WD         Normal  \n",
       "\n",
       "[1 rows x 80 columns]"
      ]
     },
     "metadata": {},
     "output_type": "display_data"
    }
   ],
   "source": [
    "print('shape of test set',raw_test.shape)\n",
    "display(raw_test.head(1))"
   ]
  },
  {
   "cell_type": "code",
   "execution_count": 6,
   "metadata": {},
   "outputs": [],
   "source": [
    "raw_train=raw_train.drop(['Id'],axis=1)\n",
    "raw_test=raw_test.drop(['Id'],axis=1)"
   ]
  },
  {
   "cell_type": "markdown",
   "metadata": {},
   "source": [
    "outliers=[]\n",
    "def detect_outlier(data_1):\n",
    "    \n",
    "    threshold=8\n",
    "    mean_1 = np.mean(data_1)\n",
    "    std_1 =np.std(data_1)\n",
    "    \n",
    "    \n",
    "    for y in data_1:\n",
    "        z_score= (y - mean_1)/std_1 \n",
    "        if np.abs(z_score) > threshold:\n",
    "            outliers.append(y)\n",
    "    return outliers"
   ]
  },
  {
   "cell_type": "markdown",
   "metadata": {},
   "source": [
    "#### Changing different threshold values in above function some (or) one influential points may be observed"
   ]
  },
  {
   "cell_type": "markdown",
   "metadata": {},
   "source": [
    "outlier_datapoints = detect_outlier(raw_train['MasVnrArea'])\n",
    "print(\"number of outliers in MasVnrArea=\",len(outlier_datapoints))\n",
    "print('those data points are',outlier_datapoints)"
   ]
  },
  {
   "cell_type": "code",
   "execution_count": 7,
   "metadata": {},
   "outputs": [
    {
     "name": "stdout",
     "output_type": "stream",
     "text": [
      "train: (1,)\n",
      "test: (0,)\n"
     ]
    },
    {
     "data": {
      "image/png": "[encoded data removed]",
      "text/plain": [
       "<Figure size 432x288 with 1 Axes>"
      ]
     },
     "metadata": {
      "needs_background": "light"
     },
     "output_type": "display_data"
    }
   ],
   "source": [
    "sns.kdeplot(raw_train['MasVnrArea'])\n",
    "sns.kdeplot(raw_test['MasVnrArea'])\n",
    "print('train:', raw_train['MasVnrArea'][raw_train['MasVnrArea'] > 1500].shape)\n",
    "print('test:', raw_test['MasVnrArea'][raw_test['MasVnrArea'] > 1500].shape)"
   ]
  },
  {
   "cell_type": "code",
   "execution_count": 8,
   "metadata": {},
   "outputs": [
    {
     "name": "stdout",
     "output_type": "stream",
     "text": [
      "(1460, 80)\n",
      "(1452, 80)\n"
     ]
    }
   ],
   "source": [
    "print(raw_train.shape)\n",
    "raw_train.drop(raw_train[raw_train[\"LotFrontage\"] > 200].index,inplace=True)\n",
    "raw_train.drop(raw_train[raw_train[\"LotArea\"] > 70000].index,inplace=True)\n",
    "raw_train.drop(raw_train[raw_train[\"MasVnrArea\"] > 1500].index,inplace=True)\n",
    "print(raw_train.shape)\n",
    "train_length = raw_train.shape[0]\n",
    "salesprice=raw_train['SalePrice']"
   ]
  },
  {
   "cell_type": "code",
   "execution_count": 9,
   "metadata": {},
   "outputs": [],
   "source": [
    "raw_train=raw_train.drop(['SalePrice'],axis=1)"
   ]
  },
  {
   "cell_type": "code",
   "execution_count": 10,
   "metadata": {},
   "outputs": [
    {
     "data": {
      "text/html": [
       "<div>\n",
       "<style scoped>\n",
       "    .dataframe tbody tr th:only-of-type {\n",
       "        vertical-align: middle;\n",
       "    }\n",
       "\n",
       "    .dataframe tbody tr th {\n",
       "        vertical-align: top;\n",
       "    }\n",
       "\n",
       "    .dataframe thead th {\n",
       "        text-align: right;\n",
       "    }\n",
       "</style>\n",
       "<table border=\"1\" class=\"dataframe\">\n",
       "  <thead>\n",
       "    <tr style=\"text-align: right;\">\n",
       "      <th></th>\n",
       "      <th>MSSubClass</th>\n",
       "      <th>MSZoning</th>\n",
       "      <th>LotFrontage</th>\n",
       "      <th>LotArea</th>\n",
       "      <th>Street</th>\n",
       "      <th>Alley</th>\n",
       "      <th>LotShape</th>\n",
       "      <th>LandContour</th>\n",
       "      <th>Utilities</th>\n",
       "      <th>LotConfig</th>\n",
       "      <th>...</th>\n",
       "      <th>ScreenPorch</th>\n",
       "      <th>PoolArea</th>\n",
       "      <th>PoolQC</th>\n",
       "      <th>Fence</th>\n",
       "      <th>MiscFeature</th>\n",
       "      <th>MiscVal</th>\n",
       "      <th>MoSold</th>\n",
       "      <th>YrSold</th>\n",
       "      <th>SaleType</th>\n",
       "      <th>SaleCondition</th>\n",
       "    </tr>\n",
       "  </thead>\n",
       "  <tbody>\n",
       "    <tr>\n",
       "      <td>0</td>\n",
       "      <td>60</td>\n",
       "      <td>RL</td>\n",
       "      <td>65.0</td>\n",
       "      <td>8450</td>\n",
       "      <td>Pave</td>\n",
       "      <td>NaN</td>\n",
       "      <td>Reg</td>\n",
       "      <td>Lvl</td>\n",
       "      <td>AllPub</td>\n",
       "      <td>Inside</td>\n",
       "      <td>...</td>\n",
       "      <td>0</td>\n",
       "      <td>0</td>\n",
       "      <td>NaN</td>\n",
       "      <td>NaN</td>\n",
       "      <td>NaN</td>\n",
       "      <td>0</td>\n",
       "      <td>2</td>\n",
       "      <td>2008</td>\n",
       "      <td>WD</td>\n",
       "      <td>Normal</td>\n",
       "    </tr>\n",
       "  </tbody>\n",
       "</table>\n",
       "<p>1 rows × 79 columns</p>\n",
       "</div>"
      ],
      "text/plain": [
       "   MSSubClass MSZoning  LotFrontage  LotArea Street Alley LotShape  \\\n",
       "0          60       RL         65.0     8450   Pave   NaN      Reg   \n",
       "\n",
       "  LandContour Utilities LotConfig  ... ScreenPorch PoolArea PoolQC Fence  \\\n",
       "0         Lvl    AllPub    Inside  ...           0        0    NaN   NaN   \n",
       "\n",
       "  MiscFeature MiscVal  MoSold  YrSold  SaleType  SaleCondition  \n",
       "0         NaN       0       2    2008        WD         Normal  \n",
       "\n",
       "[1 rows x 79 columns]"
      ]
     },
     "metadata": {},
     "output_type": "display_data"
    },
    {
     "name": "stdout",
     "output_type": "stream",
     "text": [
      "(2911, 79)\n"
     ]
    }
   ],
   "source": [
    "whole_data = pd.concat([raw_train, raw_test])\n",
    "display(whole_data.head(1))\n",
    "print(whole_data.shape)"
   ]
  },
  {
   "cell_type": "code",
   "execution_count": 11,
   "metadata": {},
   "outputs": [
    {
     "data": {
      "text/plain": [
       "<matplotlib.axes._subplots.AxesSubplot at 0x7fabe909da58>"
      ]
     },
     "execution_count": 11,
     "metadata": {},
     "output_type": "execute_result"
    },
    {
     "data": {
      "image/png": "[encoded data removed]",
      "text/plain": [
       "<Figure size 432x288 with 1 Axes>"
      ]
     },
     "metadata": {
      "needs_background": "light"
     },
     "output_type": "display_data"
    }
   ],
   "source": [
    "whole_data['LotFrontage'].groupby(whole_data[\"Neighborhood\"]).median().plot()\n",
    "whole_data['LotFrontage'].groupby(whole_data[\"Neighborhood\"]).mean().plot()"
   ]
  },
  {
   "cell_type": "code",
   "execution_count": 12,
   "metadata": {},
   "outputs": [],
   "source": [
    "median_values = whole_data['LotFrontage'].groupby(whole_data[\"Neighborhood\"]).median()    \n",
    "rows = whole_data['LotFrontage'].isnull()\n",
    "whole_data['LotFrontage'][rows] = whole_data['Neighborhood'][rows].map(lambda neighbor : median_values[neighbor])"
   ]
  },
  {
   "cell_type": "code",
   "execution_count": 13,
   "metadata": {},
   "outputs": [],
   "source": [
    "def fill_nas(column, value):\n",
    "    whole_data.loc[whole_data[column].isnull(),column] = value"
   ]
  },
  {
   "cell_type": "code",
   "execution_count": 14,
   "metadata": {},
   "outputs": [],
   "source": [
    "fill_nas('Alley', 'NA')\n",
    "#NA--> No Alley case"
   ]
  },
  {
   "cell_type": "code",
   "execution_count": 15,
   "metadata": {},
   "outputs": [],
   "source": [
    "basement_cols=['BsmtQual','BsmtCond','BsmtExposure','BsmtFinType1','BsmtFinType2']"
   ]
  },
  {
   "cell_type": "code",
   "execution_count": 16,
   "metadata": {},
   "outputs": [],
   "source": [
    "# Values for missing values is filled with NA\n",
    "#NA--> No Basement\n",
    "for column in basement_cols:\n",
    "        fill_nas(column, 'NA')"
   ]
  },
  {
   "cell_type": "code",
   "execution_count": 17,
   "metadata": {},
   "outputs": [],
   "source": [
    "whole_data['MasVnrType'].fillna('None', inplace=True)\n",
    "whole_data['MasVnrArea'].fillna(0, inplace=True)\n",
    "# None--> No masonry veneer"
   ]
  },
  {
   "cell_type": "code",
   "execution_count": 18,
   "metadata": {},
   "outputs": [],
   "source": [
    "fill_nas('BsmtFinSF1', 0)\n",
    "fill_nas('BsmtFinSF2', 0)"
   ]
  },
  {
   "cell_type": "code",
   "execution_count": 19,
   "metadata": {},
   "outputs": [
    {
     "data": {
      "text/plain": [
       "<matplotlib.axes._subplots.AxesSubplot at 0x7fabd971a7f0>"
      ]
     },
     "execution_count": 19,
     "metadata": {},
     "output_type": "execute_result"
    },
    {
     "data": {
      "image/png": "[encoded data removed]",
      "text/plain": [
       "<Figure size 432x288 with 1 Axes>"
      ]
     },
     "metadata": {
      "needs_background": "light"
     },
     "output_type": "display_data"
    }
   ],
   "source": [
    "sns.countplot(whole_data['Electrical'])"
   ]
  },
  {
   "cell_type": "code",
   "execution_count": 20,
   "metadata": {},
   "outputs": [],
   "source": [
    "fill_nas('Electrical','SBrkr')"
   ]
  },
  {
   "cell_type": "code",
   "execution_count": 21,
   "metadata": {},
   "outputs": [
    {
     "data": {
      "text/plain": [
       "<matplotlib.axes._subplots.AxesSubplot at 0x7fabd9794550>"
      ]
     },
     "execution_count": 21,
     "metadata": {},
     "output_type": "execute_result"
    },
    {
     "data": {
      "image/png": "[encoded data removed]",
      "text/plain": [
       "<Figure size 432x288 with 1 Axes>"
      ]
     },
     "metadata": {
      "needs_background": "light"
     },
     "output_type": "display_data"
    }
   ],
   "source": [
    "sns.countplot(whole_data['Exterior1st'])"
   ]
  },
  {
   "cell_type": "code",
   "execution_count": 22,
   "metadata": {},
   "outputs": [],
   "source": [
    "fill_nas('Exterior1st','VinylSd')"
   ]
  },
  {
   "cell_type": "code",
   "execution_count": 23,
   "metadata": {},
   "outputs": [
    {
     "data": {
      "text/plain": [
       "<matplotlib.axes._subplots.AxesSubplot at 0x7fabd9612978>"
      ]
     },
     "execution_count": 23,
     "metadata": {},
     "output_type": "execute_result"
    },
    {
     "data": {
      "image/png": "[encoded data removed]",
      "text/plain": [
       "<Figure size 432x288 with 1 Axes>"
      ]
     },
     "metadata": {
      "needs_background": "light"
     },
     "output_type": "display_data"
    }
   ],
   "source": [
    "sns.countplot(whole_data['Exterior2nd'])"
   ]
  },
  {
   "cell_type": "code",
   "execution_count": 24,
   "metadata": {},
   "outputs": [],
   "source": [
    "fill_nas('Exterior2nd','VinylSd')"
   ]
  },
  {
   "cell_type": "code",
   "execution_count": 25,
   "metadata": {},
   "outputs": [
    {
     "data": {
      "text/plain": [
       "<matplotlib.axes._subplots.AxesSubplot at 0x7fabd95c08d0>"
      ]
     },
     "execution_count": 25,
     "metadata": {},
     "output_type": "execute_result"
    },
    {
     "data": {
      "image/png": "[encoded data removed]",
      "text/plain": [
       "<Figure size 432x288 with 1 Axes>"
      ]
     },
     "metadata": {
      "needs_background": "light"
     },
     "output_type": "display_data"
    }
   ],
   "source": [
    "sns.countplot(whole_data['Utilities'])"
   ]
  },
  {
   "cell_type": "code",
   "execution_count": 26,
   "metadata": {},
   "outputs": [],
   "source": [
    "fill_nas('Utilities','AllPub')"
   ]
  },
  {
   "cell_type": "code",
   "execution_count": 27,
   "metadata": {},
   "outputs": [
    {
     "data": {
      "text/plain": [
       "<matplotlib.axes._subplots.AxesSubplot at 0x7fabd957c7b8>"
      ]
     },
     "execution_count": 27,
     "metadata": {},
     "output_type": "execute_result"
    },
    {
     "data": {
      "image/png": "[encoded data removed]",
      "text/plain": [
       "<Figure size 432x288 with 1 Axes>"
      ]
     },
     "metadata": {
      "needs_background": "light"
     },
     "output_type": "display_data"
    }
   ],
   "source": [
    "sns.countplot(whole_data['MSZoning'])"
   ]
  },
  {
   "cell_type": "code",
   "execution_count": 28,
   "metadata": {},
   "outputs": [],
   "source": [
    "fill_nas('MSZoning','RL')"
   ]
  },
  {
   "cell_type": "code",
   "execution_count": 29,
   "metadata": {},
   "outputs": [
    {
     "data": {
      "text/plain": [
       "<matplotlib.axes._subplots.AxesSubplot at 0x7fabd94edcf8>"
      ]
     },
     "execution_count": 29,
     "metadata": {},
     "output_type": "execute_result"
    },
    {
     "data": {
      "image/png": "[encoded data removed]",
      "text/plain": [
       "<Figure size 432x288 with 1 Axes>"
      ]
     },
     "metadata": {
      "needs_background": "light"
     },
     "output_type": "display_data"
    }
   ],
   "source": [
    "sns.countplot(whole_data['KitchenQual'])"
   ]
  },
  {
   "cell_type": "code",
   "execution_count": 30,
   "metadata": {},
   "outputs": [],
   "source": [
    "fill_nas('KitchenQual','Gd')"
   ]
  },
  {
   "cell_type": "code",
   "execution_count": 31,
   "metadata": {},
   "outputs": [
    {
     "data": {
      "text/plain": [
       "<matplotlib.axes._subplots.AxesSubplot at 0x7fabd957c4e0>"
      ]
     },
     "execution_count": 31,
     "metadata": {},
     "output_type": "execute_result"
    },
    {
     "data": {
      "image/png": "[encoded data removed]",
      "text/plain": [
       "<Figure size 432x288 with 1 Axes>"
      ]
     },
     "metadata": {
      "needs_background": "light"
     },
     "output_type": "display_data"
    }
   ],
   "source": [
    "sns.countplot(whole_data['Functional'])"
   ]
  },
  {
   "cell_type": "code",
   "execution_count": 32,
   "metadata": {},
   "outputs": [],
   "source": [
    "fill_nas('Functional','Typ')"
   ]
  },
  {
   "cell_type": "code",
   "execution_count": 33,
   "metadata": {},
   "outputs": [
    {
     "data": {
      "text/plain": [
       "<matplotlib.axes._subplots.AxesSubplot at 0x7fabd980f908>"
      ]
     },
     "execution_count": 33,
     "metadata": {},
     "output_type": "execute_result"
    },
    {
     "data": {
      "image/png": "[encoded data removed]",
      "text/plain": [
       "<Figure size 432x288 with 1 Axes>"
      ]
     },
     "metadata": {
      "needs_background": "light"
     },
     "output_type": "display_data"
    }
   ],
   "source": [
    "sns.countplot(whole_data['SaleType'])"
   ]
  },
  {
   "cell_type": "code",
   "execution_count": 34,
   "metadata": {},
   "outputs": [],
   "source": [
    "fill_nas('SaleType','WD')"
   ]
  },
  {
   "cell_type": "code",
   "execution_count": 35,
   "metadata": {},
   "outputs": [],
   "source": [
    "fill_nas('FireplaceQu', 'NA')\n",
    "#NA--> NO Fireplace\n",
    "fill_nas('PoolQC', 'NA')\n",
    "#NA--> NO Pool\n",
    "fill_nas('MiscFeature', 'NA')\n",
    "#NA--> None\n",
    "fill_nas('Fence', 'NA')\n",
    "#NA--> No Fence"
   ]
  },
  {
   "cell_type": "code",
   "execution_count": 36,
   "metadata": {},
   "outputs": [
    {
     "data": {
      "text/html": [
       "<div>\n",
       "<style scoped>\n",
       "    .dataframe tbody tr th:only-of-type {\n",
       "        vertical-align: middle;\n",
       "    }\n",
       "\n",
       "    .dataframe tbody tr th {\n",
       "        vertical-align: top;\n",
       "    }\n",
       "\n",
       "    .dataframe thead th {\n",
       "        text-align: right;\n",
       "    }\n",
       "</style>\n",
       "<table border=\"1\" class=\"dataframe\">\n",
       "  <thead>\n",
       "    <tr style=\"text-align: right;\">\n",
       "      <th></th>\n",
       "      <th>GarageType</th>\n",
       "      <th>GarageQual</th>\n",
       "      <th>GarageCond</th>\n",
       "      <th>GarageYrBlt</th>\n",
       "      <th>GarageFinish</th>\n",
       "      <th>GarageCars</th>\n",
       "      <th>GarageArea</th>\n",
       "    </tr>\n",
       "  </thead>\n",
       "  <tbody>\n",
       "    <tr>\n",
       "      <td>39</td>\n",
       "      <td>NaN</td>\n",
       "      <td>NaN</td>\n",
       "      <td>NaN</td>\n",
       "      <td>NaN</td>\n",
       "      <td>NaN</td>\n",
       "      <td>0.0</td>\n",
       "      <td>0.0</td>\n",
       "    </tr>\n",
       "  </tbody>\n",
       "</table>\n",
       "</div>"
      ],
      "text/plain": [
       "   GarageType GarageQual GarageCond  GarageYrBlt GarageFinish  GarageCars  \\\n",
       "39        NaN        NaN        NaN          NaN          NaN         0.0   \n",
       "\n",
       "    GarageArea  \n",
       "39         0.0  "
      ]
     },
     "execution_count": 36,
     "metadata": {},
     "output_type": "execute_result"
    }
   ],
   "source": [
    "garage_cols=['GarageType','GarageQual','GarageCond','GarageYrBlt','GarageFinish','GarageCars','GarageArea']\n",
    "whole_data[garage_cols][whole_data['GarageType'].isnull()==True].head(1)"
   ]
  },
  {
   "cell_type": "code",
   "execution_count": 37,
   "metadata": {},
   "outputs": [],
   "source": [
    "for column in garage_cols:\n",
    "    if column != 'GarageCars' and column != 'GarageArea':\n",
    "        # NA\tNo Basement\n",
    "        fill_nas(column, 'NA')\n",
    "    else:\n",
    "        fill_nas(column, 0)"
   ]
  },
  {
   "cell_type": "code",
   "execution_count": 38,
   "metadata": {},
   "outputs": [
    {
     "name": "stdout",
     "output_type": "stream",
     "text": [
      "These are the columns remaining with missing values ['BsmtUnfSF', 'TotalBsmtSF', 'BsmtFullBath', 'BsmtHalfBath']\n"
     ]
    }
   ],
   "source": [
    "#Almost every column got filled it's NA with some values. Let's check if there are any other columns\n",
    "print('These are the columns remaining with missing values',whole_data.columns[whole_data.isnull().any()].tolist())"
   ]
  },
  {
   "cell_type": "code",
   "execution_count": 39,
   "metadata": {},
   "outputs": [],
   "source": [
    "remaining_cols=['BsmtUnfSF', 'TotalBsmtSF', 'BsmtFullBath', 'BsmtHalfBath']\n",
    "for col in remaining_cols:\n",
    "    fill_nas(col,0)"
   ]
  },
  {
   "cell_type": "code",
   "execution_count": 40,
   "metadata": {},
   "outputs": [],
   "source": [
    "# How many years has remodeled from built\n",
    "whole_data['RemodYears'] = whole_data['YearRemodAdd'] - whole_data['YearBuilt']\n",
    "# Did a remodeling happened from built?\n",
    "whole_data[\"HasRemodeled\"] = (whole_data[\"YearRemodAdd\"] != whole_data[\"YearBuilt\"]) * 1\n",
    "# Did a remodeling happen in the year the house was sold?\n",
    "whole_data[\"HasRemodel@sold\"] = (whole_data[\"YearRemodAdd\"] == whole_data[\"YrSold\"]) * 1\n",
    "#1--> Yes, 0--> NO"
   ]
  },
  {
   "cell_type": "code",
   "execution_count": 41,
   "metadata": {},
   "outputs": [],
   "source": [
    "whole_data[\"SimplOverallQual\"] = whole_data.OverallQual.replace(\n",
    "                                                            {1 : 1, 2 : 1, 3 : 1, # bad\n",
    "                                                             4 : 2, 5 : 2, 6 : 2, # average\n",
    "                                                             7 : 3, 8 : 3, 9 : 3, 10 : 3 # good\n",
    "                                                            })\n",
    "whole_data[\"SimplOverallCond\"] = whole_data.OverallCond.replace(\n",
    "                                                            {1 : 1, 2 : 1, 3 : 1, # bad\n",
    "                                                             4 : 2, 5 : 2, 6 : 2, # average\n",
    "                                                             7 : 3, 8 : 3, 9 : 3, 10 : 3 # good\n",
    "                                                             })"
   ]
  },
  {
   "cell_type": "code",
   "execution_count": 42,
   "metadata": {},
   "outputs": [
    {
     "name": "stdout",
     "output_type": "stream",
     "text": [
      "dict_keys(['Street', 'Alley', 'Utilities', 'ExterQual', 'ExterCond', 'BsmtExposure', 'BsmtQual', 'BsmtCond', 'BsmtFinType1', 'BsmtFinType2', 'HeatingQC', 'CentralAir', 'KitchenQual', 'Functional', 'FireplaceQu', 'GarageQual', 'GarageCond', 'PoolQC', 'Fence'])\n",
      "(2911, 103)\n"
     ]
    }
   ],
   "source": [
    "labelling_map = {'Street': {'Grvl': 0, 'Pave': 1},\n",
    "     'Alley': {'NA':0, 'Grvl': 1, 'Pave': 2},\n",
    "     'Utilities': {'AllPub':3, 'NoSeWa': 1, 'NoSewr': 2, 'ELO': 0},\n",
    "     'ExterQual': {'Ex': 4, 'Gd': 3, 'TA': 2, 'Fa': 1,'Po': 0},\n",
    "     'ExterCond': {'Ex': 4, 'Gd': 3, 'TA': 2, 'Fa': 1,'Po': 0},\n",
    "     'BsmtExposure': {'Gd': 4, 'Av': 3, 'Mn': 2, 'No': 1,'NA': 0},\n",
    "     'BsmtQual': {'Ex': 5, 'Gd': 4, 'TA': 3, 'Fa': 2,'Po': 1,'NA': 0},\n",
    "     'BsmtCond': {'Ex': 5, 'Gd': 4, 'TA': 3, 'Fa': 2,'Po': 1,'NA': 0},\n",
    "     'BsmtFinType1': {'NA':0, 'Unf':1, 'LwQ':2, 'Rec':3, 'BLQ':4, 'ALQ':5, 'GLQ':6},\n",
    "     'BsmtFinType2': {'NA':0, 'Unf':1, 'LwQ':2, 'Rec':3, 'BLQ':4, 'ALQ':5, 'GLQ':6},\n",
    "     'HeatingQC': {'Ex': 4, 'Gd': 3, 'TA': 2, 'Fa': 1,'Po': 0},\n",
    "     'CentralAir': {'N':0, 'Y':1},\n",
    "     'KitchenQual': {'Ex': 4, 'Gd': 3, 'TA': 2, 'Fa': 1, 'Po': 0},\n",
    "     'Functional': {'Typ':0,'Min1':1,'Min2':1,'Mod':2,'Maj1':3,'Maj2':4,'Sev':5,'Sal': 6},\n",
    "     'FireplaceQu': {'Ex': 5, 'Gd': 4, 'TA': 3, 'Fa': 2, 'Po': 1, 'NA': 0},\n",
    "     'GarageQual': {'Ex': 5, 'Gd': 4, 'TA': 3, 'Fa': 2, 'Po': 1, 'NA': 0},\n",
    "     'GarageCond': {'Ex': 5, 'Gd': 4, 'TA': 3, 'Fa': 2, 'Po': 1, 'NA': 0},\n",
    "     'PoolQC': {'Ex': 4, 'Gd': 3, 'TA': 2, 'Fa': 1, 'NA': 0},\n",
    "     'Fence': {'GdPrv': 2, 'GdWo': 2, 'MnPrv': 1, 'MnWw': 1, 'NA': 0}\n",
    "    }\n",
    "\n",
    "print(labelling_map.keys())\n",
    "labelled_data = whole_data[labelling_map.keys()].replace(labelling_map)\n",
    "labelled_data.columns = labelled_data.columns.map(lambda m : m + '_')\n",
    "whole_data[labelled_data.columns] = labelled_data[labelled_data.columns]\n",
    "print(whole_data.shape)"
   ]
  },
  {
   "cell_type": "code",
   "execution_count": 43,
   "metadata": {},
   "outputs": [],
   "source": [
    "whole_data=whole_data.drop(['Street', 'Alley', 'Utilities', 'ExterQual', 'ExterCond', 'BsmtExposure', 'BsmtQual', 'BsmtCond', 'BsmtFinType1', 'BsmtFinType2', 'HeatingQC', 'CentralAir', 'KitchenQual', 'Functional', 'FireplaceQu', 'GarageQual', 'GarageCond', 'PoolQC', 'Fence'],axis=1)"
   ]
  },
  {
   "cell_type": "code",
   "execution_count": 44,
   "metadata": {},
   "outputs": [
    {
     "data": {
      "text/plain": [
       "(2911, 84)"
      ]
     },
     "execution_count": 44,
     "metadata": {},
     "output_type": "execute_result"
    }
   ],
   "source": [
    "whole_data.shape"
   ]
  },
  {
   "cell_type": "code",
   "execution_count": 45,
   "metadata": {},
   "outputs": [
    {
     "data": {
      "text/html": [
       "<div>\n",
       "<style scoped>\n",
       "    .dataframe tbody tr th:only-of-type {\n",
       "        vertical-align: middle;\n",
       "    }\n",
       "\n",
       "    .dataframe tbody tr th {\n",
       "        vertical-align: top;\n",
       "    }\n",
       "\n",
       "    .dataframe thead th {\n",
       "        text-align: right;\n",
       "    }\n",
       "</style>\n",
       "<table border=\"1\" class=\"dataframe\">\n",
       "  <thead>\n",
       "    <tr style=\"text-align: right;\">\n",
       "      <th></th>\n",
       "      <th>MSSubClass</th>\n",
       "      <th>MSZoning</th>\n",
       "      <th>LotFrontage</th>\n",
       "      <th>LotArea</th>\n",
       "      <th>LotShape</th>\n",
       "      <th>LandContour</th>\n",
       "      <th>LotConfig</th>\n",
       "      <th>LandSlope</th>\n",
       "      <th>Neighborhood</th>\n",
       "      <th>Condition1</th>\n",
       "      <th>...</th>\n",
       "      <th>BsmtFinType2_</th>\n",
       "      <th>HeatingQC_</th>\n",
       "      <th>CentralAir_</th>\n",
       "      <th>KitchenQual_</th>\n",
       "      <th>Functional_</th>\n",
       "      <th>FireplaceQu_</th>\n",
       "      <th>GarageQual_</th>\n",
       "      <th>GarageCond_</th>\n",
       "      <th>PoolQC_</th>\n",
       "      <th>Fence_</th>\n",
       "    </tr>\n",
       "  </thead>\n",
       "  <tbody>\n",
       "    <tr>\n",
       "      <td>count</td>\n",
       "      <td>2911.000000</td>\n",
       "      <td>2911</td>\n",
       "      <td>2911.000000</td>\n",
       "      <td>2911.000000</td>\n",
       "      <td>2911</td>\n",
       "      <td>2911</td>\n",
       "      <td>2911</td>\n",
       "      <td>2911</td>\n",
       "      <td>2911</td>\n",
       "      <td>2911</td>\n",
       "      <td>...</td>\n",
       "      <td>2911.000000</td>\n",
       "      <td>2911.000000</td>\n",
       "      <td>2911.000000</td>\n",
       "      <td>2911.0</td>\n",
       "      <td>2911.0</td>\n",
       "      <td>2911.000000</td>\n",
       "      <td>2911.000000</td>\n",
       "      <td>2911.000000</td>\n",
       "      <td>2911.000000</td>\n",
       "      <td>2911.000000</td>\n",
       "    </tr>\n",
       "    <tr>\n",
       "      <td>unique</td>\n",
       "      <td>NaN</td>\n",
       "      <td>5</td>\n",
       "      <td>NaN</td>\n",
       "      <td>NaN</td>\n",
       "      <td>4</td>\n",
       "      <td>4</td>\n",
       "      <td>5</td>\n",
       "      <td>3</td>\n",
       "      <td>25</td>\n",
       "      <td>9</td>\n",
       "      <td>...</td>\n",
       "      <td>NaN</td>\n",
       "      <td>NaN</td>\n",
       "      <td>NaN</td>\n",
       "      <td>4.0</td>\n",
       "      <td>6.0</td>\n",
       "      <td>NaN</td>\n",
       "      <td>NaN</td>\n",
       "      <td>NaN</td>\n",
       "      <td>NaN</td>\n",
       "      <td>NaN</td>\n",
       "    </tr>\n",
       "    <tr>\n",
       "      <td>top</td>\n",
       "      <td>NaN</td>\n",
       "      <td>RL</td>\n",
       "      <td>NaN</td>\n",
       "      <td>NaN</td>\n",
       "      <td>Reg</td>\n",
       "      <td>Lvl</td>\n",
       "      <td>Inside</td>\n",
       "      <td>Gtl</td>\n",
       "      <td>NAmes</td>\n",
       "      <td>Norm</td>\n",
       "      <td>...</td>\n",
       "      <td>NaN</td>\n",
       "      <td>NaN</td>\n",
       "      <td>NaN</td>\n",
       "      <td>2.0</td>\n",
       "      <td>0.0</td>\n",
       "      <td>NaN</td>\n",
       "      <td>NaN</td>\n",
       "      <td>NaN</td>\n",
       "      <td>NaN</td>\n",
       "      <td>NaN</td>\n",
       "    </tr>\n",
       "    <tr>\n",
       "      <td>freq</td>\n",
       "      <td>NaN</td>\n",
       "      <td>2262</td>\n",
       "      <td>NaN</td>\n",
       "      <td>NaN</td>\n",
       "      <td>1859</td>\n",
       "      <td>2621</td>\n",
       "      <td>2129</td>\n",
       "      <td>2776</td>\n",
       "      <td>442</td>\n",
       "      <td>2505</td>\n",
       "      <td>...</td>\n",
       "      <td>NaN</td>\n",
       "      <td>NaN</td>\n",
       "      <td>NaN</td>\n",
       "      <td>1490.0</td>\n",
       "      <td>2711.0</td>\n",
       "      <td>NaN</td>\n",
       "      <td>NaN</td>\n",
       "      <td>NaN</td>\n",
       "      <td>NaN</td>\n",
       "      <td>NaN</td>\n",
       "    </tr>\n",
       "    <tr>\n",
       "      <td>mean</td>\n",
       "      <td>57.143593</td>\n",
       "      <td>NaN</td>\n",
       "      <td>69.344899</td>\n",
       "      <td>9913.079354</td>\n",
       "      <td>NaN</td>\n",
       "      <td>NaN</td>\n",
       "      <td>NaN</td>\n",
       "      <td>NaN</td>\n",
       "      <td>NaN</td>\n",
       "      <td>NaN</td>\n",
       "      <td>...</td>\n",
       "      <td>1.272759</td>\n",
       "      <td>3.151838</td>\n",
       "      <td>0.932669</td>\n",
       "      <td>NaN</td>\n",
       "      <td>NaN</td>\n",
       "      <td>1.763312</td>\n",
       "      <td>2.800412</td>\n",
       "      <td>2.808313</td>\n",
       "      <td>0.009275</td>\n",
       "      <td>0.275163</td>\n",
       "    </tr>\n",
       "    <tr>\n",
       "      <td>std</td>\n",
       "      <td>42.482153</td>\n",
       "      <td>NaN</td>\n",
       "      <td>20.717493</td>\n",
       "      <td>5088.809890</td>\n",
       "      <td>NaN</td>\n",
       "      <td>NaN</td>\n",
       "      <td>NaN</td>\n",
       "      <td>NaN</td>\n",
       "      <td>NaN</td>\n",
       "      <td>NaN</td>\n",
       "      <td>...</td>\n",
       "      <td>0.954539</td>\n",
       "      <td>0.958035</td>\n",
       "      <td>0.250637</td>\n",
       "      <td>NaN</td>\n",
       "      <td>NaN</td>\n",
       "      <td>1.806624</td>\n",
       "      <td>0.716770</td>\n",
       "      <td>0.713406</td>\n",
       "      <td>0.178529</td>\n",
       "      <td>0.597990</td>\n",
       "    </tr>\n",
       "    <tr>\n",
       "      <td>min</td>\n",
       "      <td>20.000000</td>\n",
       "      <td>NaN</td>\n",
       "      <td>21.000000</td>\n",
       "      <td>1300.000000</td>\n",
       "      <td>NaN</td>\n",
       "      <td>NaN</td>\n",
       "      <td>NaN</td>\n",
       "      <td>NaN</td>\n",
       "      <td>NaN</td>\n",
       "      <td>NaN</td>\n",
       "      <td>...</td>\n",
       "      <td>0.000000</td>\n",
       "      <td>0.000000</td>\n",
       "      <td>0.000000</td>\n",
       "      <td>NaN</td>\n",
       "      <td>NaN</td>\n",
       "      <td>0.000000</td>\n",
       "      <td>0.000000</td>\n",
       "      <td>0.000000</td>\n",
       "      <td>0.000000</td>\n",
       "      <td>0.000000</td>\n",
       "    </tr>\n",
       "    <tr>\n",
       "      <td>25%</td>\n",
       "      <td>20.000000</td>\n",
       "      <td>NaN</td>\n",
       "      <td>60.000000</td>\n",
       "      <td>7474.000000</td>\n",
       "      <td>NaN</td>\n",
       "      <td>NaN</td>\n",
       "      <td>NaN</td>\n",
       "      <td>NaN</td>\n",
       "      <td>NaN</td>\n",
       "      <td>NaN</td>\n",
       "      <td>...</td>\n",
       "      <td>1.000000</td>\n",
       "      <td>2.000000</td>\n",
       "      <td>1.000000</td>\n",
       "      <td>NaN</td>\n",
       "      <td>NaN</td>\n",
       "      <td>0.000000</td>\n",
       "      <td>3.000000</td>\n",
       "      <td>3.000000</td>\n",
       "      <td>0.000000</td>\n",
       "      <td>0.000000</td>\n",
       "    </tr>\n",
       "    <tr>\n",
       "      <td>50%</td>\n",
       "      <td>50.000000</td>\n",
       "      <td>NaN</td>\n",
       "      <td>70.000000</td>\n",
       "      <td>9450.000000</td>\n",
       "      <td>NaN</td>\n",
       "      <td>NaN</td>\n",
       "      <td>NaN</td>\n",
       "      <td>NaN</td>\n",
       "      <td>NaN</td>\n",
       "      <td>NaN</td>\n",
       "      <td>...</td>\n",
       "      <td>1.000000</td>\n",
       "      <td>4.000000</td>\n",
       "      <td>1.000000</td>\n",
       "      <td>NaN</td>\n",
       "      <td>NaN</td>\n",
       "      <td>1.000000</td>\n",
       "      <td>3.000000</td>\n",
       "      <td>3.000000</td>\n",
       "      <td>0.000000</td>\n",
       "      <td>0.000000</td>\n",
       "    </tr>\n",
       "    <tr>\n",
       "      <td>75%</td>\n",
       "      <td>70.000000</td>\n",
       "      <td>NaN</td>\n",
       "      <td>80.000000</td>\n",
       "      <td>11523.000000</td>\n",
       "      <td>NaN</td>\n",
       "      <td>NaN</td>\n",
       "      <td>NaN</td>\n",
       "      <td>NaN</td>\n",
       "      <td>NaN</td>\n",
       "      <td>NaN</td>\n",
       "      <td>...</td>\n",
       "      <td>1.000000</td>\n",
       "      <td>4.000000</td>\n",
       "      <td>1.000000</td>\n",
       "      <td>NaN</td>\n",
       "      <td>NaN</td>\n",
       "      <td>4.000000</td>\n",
       "      <td>3.000000</td>\n",
       "      <td>3.000000</td>\n",
       "      <td>0.000000</td>\n",
       "      <td>0.000000</td>\n",
       "    </tr>\n",
       "    <tr>\n",
       "      <td>max</td>\n",
       "      <td>190.000000</td>\n",
       "      <td>NaN</td>\n",
       "      <td>200.000000</td>\n",
       "      <td>57200.000000</td>\n",
       "      <td>NaN</td>\n",
       "      <td>NaN</td>\n",
       "      <td>NaN</td>\n",
       "      <td>NaN</td>\n",
       "      <td>NaN</td>\n",
       "      <td>NaN</td>\n",
       "      <td>...</td>\n",
       "      <td>6.000000</td>\n",
       "      <td>4.000000</td>\n",
       "      <td>1.000000</td>\n",
       "      <td>NaN</td>\n",
       "      <td>NaN</td>\n",
       "      <td>5.000000</td>\n",
       "      <td>5.000000</td>\n",
       "      <td>5.000000</td>\n",
       "      <td>4.000000</td>\n",
       "      <td>2.000000</td>\n",
       "    </tr>\n",
       "  </tbody>\n",
       "</table>\n",
       "<p>11 rows × 84 columns</p>\n",
       "</div>"
      ],
      "text/plain": [
       "         MSSubClass MSZoning  LotFrontage       LotArea LotShape LandContour  \\\n",
       "count   2911.000000     2911  2911.000000   2911.000000     2911        2911   \n",
       "unique          NaN        5          NaN           NaN        4           4   \n",
       "top             NaN       RL          NaN           NaN      Reg         Lvl   \n",
       "freq            NaN     2262          NaN           NaN     1859        2621   \n",
       "mean      57.143593      NaN    69.344899   9913.079354      NaN         NaN   \n",
       "std       42.482153      NaN    20.717493   5088.809890      NaN         NaN   \n",
       "min       20.000000      NaN    21.000000   1300.000000      NaN         NaN   \n",
       "25%       20.000000      NaN    60.000000   7474.000000      NaN         NaN   \n",
       "50%       50.000000      NaN    70.000000   9450.000000      NaN         NaN   \n",
       "75%       70.000000      NaN    80.000000  11523.000000      NaN         NaN   \n",
       "max      190.000000      NaN   200.000000  57200.000000      NaN         NaN   \n",
       "\n",
       "       LotConfig LandSlope Neighborhood Condition1  ... BsmtFinType2_  \\\n",
       "count       2911      2911         2911       2911  ...   2911.000000   \n",
       "unique         5         3           25          9  ...           NaN   \n",
       "top       Inside       Gtl        NAmes       Norm  ...           NaN   \n",
       "freq        2129      2776          442       2505  ...           NaN   \n",
       "mean         NaN       NaN          NaN        NaN  ...      1.272759   \n",
       "std          NaN       NaN          NaN        NaN  ...      0.954539   \n",
       "min          NaN       NaN          NaN        NaN  ...      0.000000   \n",
       "25%          NaN       NaN          NaN        NaN  ...      1.000000   \n",
       "50%          NaN       NaN          NaN        NaN  ...      1.000000   \n",
       "75%          NaN       NaN          NaN        NaN  ...      1.000000   \n",
       "max          NaN       NaN          NaN        NaN  ...      6.000000   \n",
       "\n",
       "         HeatingQC_  CentralAir_  KitchenQual_  Functional_  FireplaceQu_  \\\n",
       "count   2911.000000  2911.000000        2911.0       2911.0   2911.000000   \n",
       "unique          NaN          NaN           4.0          6.0           NaN   \n",
       "top             NaN          NaN           2.0          0.0           NaN   \n",
       "freq            NaN          NaN        1490.0       2711.0           NaN   \n",
       "mean       3.151838     0.932669           NaN          NaN      1.763312   \n",
       "std        0.958035     0.250637           NaN          NaN      1.806624   \n",
       "min        0.000000     0.000000           NaN          NaN      0.000000   \n",
       "25%        2.000000     1.000000           NaN          NaN      0.000000   \n",
       "50%        4.000000     1.000000           NaN          NaN      1.000000   \n",
       "75%        4.000000     1.000000           NaN          NaN      4.000000   \n",
       "max        4.000000     1.000000           NaN          NaN      5.000000   \n",
       "\n",
       "        GarageQual_  GarageCond_      PoolQC_       Fence_  \n",
       "count   2911.000000  2911.000000  2911.000000  2911.000000  \n",
       "unique          NaN          NaN          NaN          NaN  \n",
       "top             NaN          NaN          NaN          NaN  \n",
       "freq            NaN          NaN          NaN          NaN  \n",
       "mean       2.800412     2.808313     0.009275     0.275163  \n",
       "std        0.716770     0.713406     0.178529     0.597990  \n",
       "min        0.000000     0.000000     0.000000     0.000000  \n",
       "25%        3.000000     3.000000     0.000000     0.000000  \n",
       "50%        3.000000     3.000000     0.000000     0.000000  \n",
       "75%        3.000000     3.000000     0.000000     0.000000  \n",
       "max        5.000000     5.000000     4.000000     2.000000  \n",
       "\n",
       "[11 rows x 84 columns]"
      ]
     },
     "execution_count": 45,
     "metadata": {},
     "output_type": "execute_result"
    }
   ],
   "source": [
    "whole_data.describe(include='all')"
   ]
  },
  {
   "cell_type": "code",
   "execution_count": 46,
   "metadata": {},
   "outputs": [
    {
     "data": {
      "text/plain": [
       "MSSubClass        int64\n",
       "MSZoning         object\n",
       "LotFrontage     float64\n",
       "LotArea           int64\n",
       "LotShape         object\n",
       "                 ...   \n",
       "FireplaceQu_      int64\n",
       "GarageQual_       int64\n",
       "GarageCond_       int64\n",
       "PoolQC_           int64\n",
       "Fence_            int64\n",
       "Length: 84, dtype: object"
      ]
     },
     "execution_count": 46,
     "metadata": {},
     "output_type": "execute_result"
    }
   ],
   "source": [
    "whole_data.dtypes"
   ]
  },
  {
   "cell_type": "code",
   "execution_count": 47,
   "metadata": {},
   "outputs": [],
   "source": [
    "cat_attr = whole_data.select_dtypes(exclude=['float64','int64']).columns\n",
    "num_attr = whole_data.select_dtypes(include=['float64','int64']).columns"
   ]
  },
  {
   "cell_type": "code",
   "execution_count": 48,
   "metadata": {},
   "outputs": [],
   "source": [
    "whole_data[cat_attr]=whole_data[cat_attr].astype('category')"
   ]
  },
  {
   "cell_type": "code",
   "execution_count": 49,
   "metadata": {},
   "outputs": [
    {
     "data": {
      "text/html": [
       "<div>\n",
       "<style scoped>\n",
       "    .dataframe tbody tr th:only-of-type {\n",
       "        vertical-align: middle;\n",
       "    }\n",
       "\n",
       "    .dataframe tbody tr th {\n",
       "        vertical-align: top;\n",
       "    }\n",
       "\n",
       "    .dataframe thead th {\n",
       "        text-align: right;\n",
       "    }\n",
       "</style>\n",
       "<table border=\"1\" class=\"dataframe\">\n",
       "  <thead>\n",
       "    <tr style=\"text-align: right;\">\n",
       "      <th></th>\n",
       "      <th>MSSubClass</th>\n",
       "      <th>MSZoning</th>\n",
       "      <th>LotFrontage</th>\n",
       "      <th>LotArea</th>\n",
       "      <th>LotShape</th>\n",
       "      <th>LandContour</th>\n",
       "      <th>LotConfig</th>\n",
       "      <th>LandSlope</th>\n",
       "      <th>Neighborhood</th>\n",
       "      <th>Condition1</th>\n",
       "      <th>...</th>\n",
       "      <th>BsmtFinType2_</th>\n",
       "      <th>HeatingQC_</th>\n",
       "      <th>CentralAir_</th>\n",
       "      <th>KitchenQual_</th>\n",
       "      <th>Functional_</th>\n",
       "      <th>FireplaceQu_</th>\n",
       "      <th>GarageQual_</th>\n",
       "      <th>GarageCond_</th>\n",
       "      <th>PoolQC_</th>\n",
       "      <th>Fence_</th>\n",
       "    </tr>\n",
       "  </thead>\n",
       "  <tbody>\n",
       "    <tr>\n",
       "      <td>count</td>\n",
       "      <td>2911.000000</td>\n",
       "      <td>2911</td>\n",
       "      <td>2911.000000</td>\n",
       "      <td>2911.000000</td>\n",
       "      <td>2911</td>\n",
       "      <td>2911</td>\n",
       "      <td>2911</td>\n",
       "      <td>2911</td>\n",
       "      <td>2911</td>\n",
       "      <td>2911</td>\n",
       "      <td>...</td>\n",
       "      <td>2911.000000</td>\n",
       "      <td>2911.000000</td>\n",
       "      <td>2911.000000</td>\n",
       "      <td>2911.0</td>\n",
       "      <td>2911.0</td>\n",
       "      <td>2911.000000</td>\n",
       "      <td>2911.000000</td>\n",
       "      <td>2911.000000</td>\n",
       "      <td>2911.000000</td>\n",
       "      <td>2911.000000</td>\n",
       "    </tr>\n",
       "    <tr>\n",
       "      <td>unique</td>\n",
       "      <td>NaN</td>\n",
       "      <td>5</td>\n",
       "      <td>NaN</td>\n",
       "      <td>NaN</td>\n",
       "      <td>4</td>\n",
       "      <td>4</td>\n",
       "      <td>5</td>\n",
       "      <td>3</td>\n",
       "      <td>25</td>\n",
       "      <td>9</td>\n",
       "      <td>...</td>\n",
       "      <td>NaN</td>\n",
       "      <td>NaN</td>\n",
       "      <td>NaN</td>\n",
       "      <td>4.0</td>\n",
       "      <td>6.0</td>\n",
       "      <td>NaN</td>\n",
       "      <td>NaN</td>\n",
       "      <td>NaN</td>\n",
       "      <td>NaN</td>\n",
       "      <td>NaN</td>\n",
       "    </tr>\n",
       "    <tr>\n",
       "      <td>top</td>\n",
       "      <td>NaN</td>\n",
       "      <td>RL</td>\n",
       "      <td>NaN</td>\n",
       "      <td>NaN</td>\n",
       "      <td>Reg</td>\n",
       "      <td>Lvl</td>\n",
       "      <td>Inside</td>\n",
       "      <td>Gtl</td>\n",
       "      <td>NAmes</td>\n",
       "      <td>Norm</td>\n",
       "      <td>...</td>\n",
       "      <td>NaN</td>\n",
       "      <td>NaN</td>\n",
       "      <td>NaN</td>\n",
       "      <td>2.0</td>\n",
       "      <td>0.0</td>\n",
       "      <td>NaN</td>\n",
       "      <td>NaN</td>\n",
       "      <td>NaN</td>\n",
       "      <td>NaN</td>\n",
       "      <td>NaN</td>\n",
       "    </tr>\n",
       "    <tr>\n",
       "      <td>freq</td>\n",
       "      <td>NaN</td>\n",
       "      <td>2262</td>\n",
       "      <td>NaN</td>\n",
       "      <td>NaN</td>\n",
       "      <td>1859</td>\n",
       "      <td>2621</td>\n",
       "      <td>2129</td>\n",
       "      <td>2776</td>\n",
       "      <td>442</td>\n",
       "      <td>2505</td>\n",
       "      <td>...</td>\n",
       "      <td>NaN</td>\n",
       "      <td>NaN</td>\n",
       "      <td>NaN</td>\n",
       "      <td>1490.0</td>\n",
       "      <td>2711.0</td>\n",
       "      <td>NaN</td>\n",
       "      <td>NaN</td>\n",
       "      <td>NaN</td>\n",
       "      <td>NaN</td>\n",
       "      <td>NaN</td>\n",
       "    </tr>\n",
       "    <tr>\n",
       "      <td>mean</td>\n",
       "      <td>57.143593</td>\n",
       "      <td>NaN</td>\n",
       "      <td>69.344899</td>\n",
       "      <td>9913.079354</td>\n",
       "      <td>NaN</td>\n",
       "      <td>NaN</td>\n",
       "      <td>NaN</td>\n",
       "      <td>NaN</td>\n",
       "      <td>NaN</td>\n",
       "      <td>NaN</td>\n",
       "      <td>...</td>\n",
       "      <td>1.272759</td>\n",
       "      <td>3.151838</td>\n",
       "      <td>0.932669</td>\n",
       "      <td>NaN</td>\n",
       "      <td>NaN</td>\n",
       "      <td>1.763312</td>\n",
       "      <td>2.800412</td>\n",
       "      <td>2.808313</td>\n",
       "      <td>0.009275</td>\n",
       "      <td>0.275163</td>\n",
       "    </tr>\n",
       "    <tr>\n",
       "      <td>std</td>\n",
       "      <td>42.482153</td>\n",
       "      <td>NaN</td>\n",
       "      <td>20.717493</td>\n",
       "      <td>5088.809890</td>\n",
       "      <td>NaN</td>\n",
       "      <td>NaN</td>\n",
       "      <td>NaN</td>\n",
       "      <td>NaN</td>\n",
       "      <td>NaN</td>\n",
       "      <td>NaN</td>\n",
       "      <td>...</td>\n",
       "      <td>0.954539</td>\n",
       "      <td>0.958035</td>\n",
       "      <td>0.250637</td>\n",
       "      <td>NaN</td>\n",
       "      <td>NaN</td>\n",
       "      <td>1.806624</td>\n",
       "      <td>0.716770</td>\n",
       "      <td>0.713406</td>\n",
       "      <td>0.178529</td>\n",
       "      <td>0.597990</td>\n",
       "    </tr>\n",
       "    <tr>\n",
       "      <td>min</td>\n",
       "      <td>20.000000</td>\n",
       "      <td>NaN</td>\n",
       "      <td>21.000000</td>\n",
       "      <td>1300.000000</td>\n",
       "      <td>NaN</td>\n",
       "      <td>NaN</td>\n",
       "      <td>NaN</td>\n",
       "      <td>NaN</td>\n",
       "      <td>NaN</td>\n",
       "      <td>NaN</td>\n",
       "      <td>...</td>\n",
       "      <td>0.000000</td>\n",
       "      <td>0.000000</td>\n",
       "      <td>0.000000</td>\n",
       "      <td>NaN</td>\n",
       "      <td>NaN</td>\n",
       "      <td>0.000000</td>\n",
       "      <td>0.000000</td>\n",
       "      <td>0.000000</td>\n",
       "      <td>0.000000</td>\n",
       "      <td>0.000000</td>\n",
       "    </tr>\n",
       "    <tr>\n",
       "      <td>25%</td>\n",
       "      <td>20.000000</td>\n",
       "      <td>NaN</td>\n",
       "      <td>60.000000</td>\n",
       "      <td>7474.000000</td>\n",
       "      <td>NaN</td>\n",
       "      <td>NaN</td>\n",
       "      <td>NaN</td>\n",
       "      <td>NaN</td>\n",
       "      <td>NaN</td>\n",
       "      <td>NaN</td>\n",
       "      <td>...</td>\n",
       "      <td>1.000000</td>\n",
       "      <td>2.000000</td>\n",
       "      <td>1.000000</td>\n",
       "      <td>NaN</td>\n",
       "      <td>NaN</td>\n",
       "      <td>0.000000</td>\n",
       "      <td>3.000000</td>\n",
       "      <td>3.000000</td>\n",
       "      <td>0.000000</td>\n",
       "      <td>0.000000</td>\n",
       "    </tr>\n",
       "    <tr>\n",
       "      <td>50%</td>\n",
       "      <td>50.000000</td>\n",
       "      <td>NaN</td>\n",
       "      <td>70.000000</td>\n",
       "      <td>9450.000000</td>\n",
       "      <td>NaN</td>\n",
       "      <td>NaN</td>\n",
       "      <td>NaN</td>\n",
       "      <td>NaN</td>\n",
       "      <td>NaN</td>\n",
       "      <td>NaN</td>\n",
       "      <td>...</td>\n",
       "      <td>1.000000</td>\n",
       "      <td>4.000000</td>\n",
       "      <td>1.000000</td>\n",
       "      <td>NaN</td>\n",
       "      <td>NaN</td>\n",
       "      <td>1.000000</td>\n",
       "      <td>3.000000</td>\n",
       "      <td>3.000000</td>\n",
       "      <td>0.000000</td>\n",
       "      <td>0.000000</td>\n",
       "    </tr>\n",
       "    <tr>\n",
       "      <td>75%</td>\n",
       "      <td>70.000000</td>\n",
       "      <td>NaN</td>\n",
       "      <td>80.000000</td>\n",
       "      <td>11523.000000</td>\n",
       "      <td>NaN</td>\n",
       "      <td>NaN</td>\n",
       "      <td>NaN</td>\n",
       "      <td>NaN</td>\n",
       "      <td>NaN</td>\n",
       "      <td>NaN</td>\n",
       "      <td>...</td>\n",
       "      <td>1.000000</td>\n",
       "      <td>4.000000</td>\n",
       "      <td>1.000000</td>\n",
       "      <td>NaN</td>\n",
       "      <td>NaN</td>\n",
       "      <td>4.000000</td>\n",
       "      <td>3.000000</td>\n",
       "      <td>3.000000</td>\n",
       "      <td>0.000000</td>\n",
       "      <td>0.000000</td>\n",
       "    </tr>\n",
       "    <tr>\n",
       "      <td>max</td>\n",
       "      <td>190.000000</td>\n",
       "      <td>NaN</td>\n",
       "      <td>200.000000</td>\n",
       "      <td>57200.000000</td>\n",
       "      <td>NaN</td>\n",
       "      <td>NaN</td>\n",
       "      <td>NaN</td>\n",
       "      <td>NaN</td>\n",
       "      <td>NaN</td>\n",
       "      <td>NaN</td>\n",
       "      <td>...</td>\n",
       "      <td>6.000000</td>\n",
       "      <td>4.000000</td>\n",
       "      <td>1.000000</td>\n",
       "      <td>NaN</td>\n",
       "      <td>NaN</td>\n",
       "      <td>5.000000</td>\n",
       "      <td>5.000000</td>\n",
       "      <td>5.000000</td>\n",
       "      <td>4.000000</td>\n",
       "      <td>2.000000</td>\n",
       "    </tr>\n",
       "  </tbody>\n",
       "</table>\n",
       "<p>11 rows × 84 columns</p>\n",
       "</div>"
      ],
      "text/plain": [
       "         MSSubClass MSZoning  LotFrontage       LotArea LotShape LandContour  \\\n",
       "count   2911.000000     2911  2911.000000   2911.000000     2911        2911   \n",
       "unique          NaN        5          NaN           NaN        4           4   \n",
       "top             NaN       RL          NaN           NaN      Reg         Lvl   \n",
       "freq            NaN     2262          NaN           NaN     1859        2621   \n",
       "mean      57.143593      NaN    69.344899   9913.079354      NaN         NaN   \n",
       "std       42.482153      NaN    20.717493   5088.809890      NaN         NaN   \n",
       "min       20.000000      NaN    21.000000   1300.000000      NaN         NaN   \n",
       "25%       20.000000      NaN    60.000000   7474.000000      NaN         NaN   \n",
       "50%       50.000000      NaN    70.000000   9450.000000      NaN         NaN   \n",
       "75%       70.000000      NaN    80.000000  11523.000000      NaN         NaN   \n",
       "max      190.000000      NaN   200.000000  57200.000000      NaN         NaN   \n",
       "\n",
       "       LotConfig LandSlope Neighborhood Condition1  ... BsmtFinType2_  \\\n",
       "count       2911      2911         2911       2911  ...   2911.000000   \n",
       "unique         5         3           25          9  ...           NaN   \n",
       "top       Inside       Gtl        NAmes       Norm  ...           NaN   \n",
       "freq        2129      2776          442       2505  ...           NaN   \n",
       "mean         NaN       NaN          NaN        NaN  ...      1.272759   \n",
       "std          NaN       NaN          NaN        NaN  ...      0.954539   \n",
       "min          NaN       NaN          NaN        NaN  ...      0.000000   \n",
       "25%          NaN       NaN          NaN        NaN  ...      1.000000   \n",
       "50%          NaN       NaN          NaN        NaN  ...      1.000000   \n",
       "75%          NaN       NaN          NaN        NaN  ...      1.000000   \n",
       "max          NaN       NaN          NaN        NaN  ...      6.000000   \n",
       "\n",
       "         HeatingQC_  CentralAir_  KitchenQual_  Functional_  FireplaceQu_  \\\n",
       "count   2911.000000  2911.000000        2911.0       2911.0   2911.000000   \n",
       "unique          NaN          NaN           4.0          6.0           NaN   \n",
       "top             NaN          NaN           2.0          0.0           NaN   \n",
       "freq            NaN          NaN        1490.0       2711.0           NaN   \n",
       "mean       3.151838     0.932669           NaN          NaN      1.763312   \n",
       "std        0.958035     0.250637           NaN          NaN      1.806624   \n",
       "min        0.000000     0.000000           NaN          NaN      0.000000   \n",
       "25%        2.000000     1.000000           NaN          NaN      0.000000   \n",
       "50%        4.000000     1.000000           NaN          NaN      1.000000   \n",
       "75%        4.000000     1.000000           NaN          NaN      4.000000   \n",
       "max        4.000000     1.000000           NaN          NaN      5.000000   \n",
       "\n",
       "        GarageQual_  GarageCond_      PoolQC_       Fence_  \n",
       "count   2911.000000  2911.000000  2911.000000  2911.000000  \n",
       "unique          NaN          NaN          NaN          NaN  \n",
       "top             NaN          NaN          NaN          NaN  \n",
       "freq            NaN          NaN          NaN          NaN  \n",
       "mean       2.800412     2.808313     0.009275     0.275163  \n",
       "std        0.716770     0.713406     0.178529     0.597990  \n",
       "min        0.000000     0.000000     0.000000     0.000000  \n",
       "25%        3.000000     3.000000     0.000000     0.000000  \n",
       "50%        3.000000     3.000000     0.000000     0.000000  \n",
       "75%        3.000000     3.000000     0.000000     0.000000  \n",
       "max        5.000000     5.000000     4.000000     2.000000  \n",
       "\n",
       "[11 rows x 84 columns]"
      ]
     },
     "execution_count": 49,
     "metadata": {},
     "output_type": "execute_result"
    }
   ],
   "source": [
    "whole_data.describe(include='all')"
   ]
  },
  {
   "cell_type": "code",
   "execution_count": 50,
   "metadata": {},
   "outputs": [
    {
     "data": {
      "text/plain": [
       "MSSubClass         int64\n",
       "MSZoning        category\n",
       "LotFrontage      float64\n",
       "LotArea            int64\n",
       "LotShape        category\n",
       "                  ...   \n",
       "FireplaceQu_       int64\n",
       "GarageQual_        int64\n",
       "GarageCond_        int64\n",
       "PoolQC_            int64\n",
       "Fence_             int64\n",
       "Length: 84, dtype: object"
      ]
     },
     "execution_count": 50,
     "metadata": {},
     "output_type": "execute_result"
    }
   ],
   "source": [
    "whole_data.dtypes"
   ]
  },
  {
   "cell_type": "code",
   "execution_count": 51,
   "metadata": {},
   "outputs": [],
   "source": [
    "from sklearn.preprocessing import StandardScaler\n",
    "scaler = StandardScaler()\n",
    "scaler.fit(whole_data[num_attr])\n",
    "whole_data[num_attr]=scaler.transform(whole_data[num_attr])"
   ]
  },
  {
   "cell_type": "code",
   "execution_count": 52,
   "metadata": {},
   "outputs": [],
   "source": [
    "whole_data = pd.get_dummies(columns = cat_attr,data = whole_data,drop_first = True)"
   ]
  },
  {
   "cell_type": "code",
   "execution_count": 53,
   "metadata": {},
   "outputs": [],
   "source": [
    "train = whole_data.iloc[:train_length, :]\n",
    "test= whole_data.iloc[train_length:,:]"
   ]
  },
  {
   "cell_type": "code",
   "execution_count": 54,
   "metadata": {},
   "outputs": [
    {
     "name": "stdout",
     "output_type": "stream",
     "text": [
      "the shape of the train after preprocessing  (1452, 321)\n",
      "the shape of the test after preprocessing  (1459, 321)\n"
     ]
    }
   ],
   "source": [
    "print('the shape of the train after preprocessing ',train.shape)\n",
    "print('the shape of the test after preprocessing ',test.shape)"
   ]
  },
  {
   "cell_type": "code",
   "execution_count": 55,
   "metadata": {},
   "outputs": [],
   "source": [
    "from sklearn.model_selection import train_test_split\n",
    "X =train\n",
    "y = salesprice\n",
    "X_train, X_val, y_train, y_val = train_test_split(X, y, test_size=0.20,random_state=123)"
   ]
  },
  {
   "cell_type": "code",
   "execution_count": 56,
   "metadata": {},
   "outputs": [
    {
     "name": "stdout",
     "output_type": "stream",
     "text": [
      "(1161, 321)\n",
      "(1161,)\n"
     ]
    }
   ],
   "source": [
    "print(X_train.shape)\n",
    "print(y_train.shape)"
   ]
  },
  {
   "cell_type": "code",
   "execution_count": 57,
   "metadata": {},
   "outputs": [
    {
     "data": {
      "text/plain": [
       "pandas.core.frame.DataFrame"
      ]
     },
     "execution_count": 57,
     "metadata": {},
     "output_type": "execute_result"
    }
   ],
   "source": [
    "type(X_val)"
   ]
  },
  {
   "cell_type": "code",
   "execution_count": 58,
   "metadata": {},
   "outputs": [
    {
     "data": {
      "text/plain": [
       "998      91000\n",
       "689     194700\n",
       "78      136500\n",
       "5       143000\n",
       "1362    104900\n",
       "Name: SalePrice, dtype: int64"
      ]
     },
     "execution_count": 58,
     "metadata": {},
     "output_type": "execute_result"
    }
   ],
   "source": [
    "y_train.head()"
   ]
  },
  {
   "cell_type": "code",
   "execution_count": 59,
   "metadata": {},
   "outputs": [],
   "source": [
    "from sklearn.ensemble import RandomForestRegressor\n",
    "from sklearn.model_selection import RandomizedSearchCV\n",
    "from sklearn.model_selection import GridSearchCV\n",
    "rf= RandomForestRegressor(random_state = 8)"
   ]
  },
  {
   "cell_type": "code",
   "execution_count": 60,
   "metadata": {},
   "outputs": [
    {
     "name": "stdout",
     "output_type": "stream",
     "text": [
      "Parameters currently in use:\n",
      "\n",
      "{'bootstrap': True, 'criterion': 'mse', 'max_depth': None, 'max_features': 'auto', 'max_leaf_nodes': None, 'min_impurity_decrease': 0.0, 'min_impurity_split': None, 'min_samples_leaf': 1, 'min_samples_split': 2, 'min_weight_fraction_leaf': 0.0, 'n_estimators': 'warn', 'n_jobs': None, 'oob_score': False, 'random_state': 8, 'verbose': 0, 'warm_start': False}\n"
     ]
    }
   ],
   "source": [
    "print('Parameters currently in use:\\n')\n",
    "print(rf.get_params())"
   ]
  },
  {
   "cell_type": "code",
   "execution_count": 61,
   "metadata": {},
   "outputs": [
    {
     "name": "stdout",
     "output_type": "stream",
     "text": [
      "{'n_estimators': [200, 400, 600, 800, 1000], 'max_features': ['auto', 'sqrt'], 'max_depth': [20, 40, 60, 80, 100, None], 'min_samples_split': [2, 5, 10], 'min_samples_leaf': [1, 2, 4], 'bootstrap': [True, False]}\n"
     ]
    }
   ],
   "source": [
    "# n_estimators\n",
    "n_estimators = [int(x) for x in np.linspace(start = 200, stop = 1000, num = 5)]\n",
    "\n",
    "# max_features\n",
    "max_features = ['auto', 'sqrt']\n",
    "\n",
    "# max_depth\n",
    "max_depth = [int(x) for x in np.linspace(20, 100, num = 5)]\n",
    "max_depth.append(None)\n",
    "\n",
    "# min_samples_split\n",
    "min_samples_split = [2, 5, 10]\n",
    "\n",
    "# min_samples_leaf\n",
    "min_samples_leaf = [1, 2, 4]\n",
    "\n",
    "# bootstrap\n",
    "bootstrap = [True, False]\n",
    "\n",
    "# Create the random grid\n",
    "random_grid = {'n_estimators': n_estimators,\n",
    "               'max_features': max_features,\n",
    "               'max_depth': max_depth,\n",
    "               'min_samples_split': min_samples_split,\n",
    "               'min_samples_leaf': min_samples_leaf,\n",
    "               'bootstrap': bootstrap}\n",
    "\n",
    "print(random_grid)"
   ]
  },
  {
   "cell_type": "code",
   "execution_count": 62,
   "metadata": {},
   "outputs": [],
   "source": [
    "from sklearn.model_selection import ShuffleSplit\n",
    "from sklearn.metrics import r2_score, mean_squared_error, make_scorer\n",
    "def MSE(y_true,y_pred):\n",
    "    mse = mean_squared_error(y_true, y_pred)\n",
    "    print ('MSE: %2.3f' % mse)\n",
    "    return mse\n",
    "\n",
    "def R2(y_true,y_pred):    \n",
    "     r2 = r2_score(y_true, y_pred)\n",
    "     print ('R2: %2.3f' % r2)\n",
    "     return r2\n",
    "\n",
    "def two_score(y_true,y_pred):    \n",
    "    MSE(y_true,y_pred) #set score here and not below if using MSE in GridCV\n",
    "    score = R2(y_true,y_pred)\n",
    "    return score\n",
    "def two_scorer():\n",
    "    return make_scorer(two_score, greater_is_better=True) # change for false if using MSE"
   ]
  },
  {
   "cell_type": "code",
   "execution_count": 63,
   "metadata": {},
   "outputs": [
    {
     "name": "stdout",
     "output_type": "stream",
     "text": [
      "Fitting 3 folds for each of 50 candidates, totalling 150 fits\n"
     ]
    },
    {
     "name": "stderr",
     "output_type": "stream",
     "text": [
      "[Parallel(n_jobs=1)]: Using backend SequentialBackend with 1 concurrent workers.\n"
     ]
    },
    {
     "name": "stdout",
     "output_type": "stream",
     "text": [
      "MSE: 967285223.007\n",
      "R2: 0.843\n",
      "MSE: 795526826.475\n",
      "R2: 0.839\n",
      "MSE: 1361575514.923\n",
      "R2: 0.813\n",
      "MSE: 946257988.423\n",
      "R2: 0.846\n",
      "MSE: 760581189.670\n",
      "R2: 0.846\n",
      "MSE: 1286810715.890\n",
      "R2: 0.824\n",
      "MSE: 1003581380.243\n",
      "R2: 0.837\n",
      "MSE: 793046455.468\n",
      "R2: 0.840\n",
      "MSE: 1499027035.381\n",
      "R2: 0.795\n",
      "MSE: 894848535.378\n",
      "R2: 0.855\n",
      "MSE: 788082008.892\n",
      "R2: 0.841\n",
      "MSE: 1147039605.124\n",
      "R2: 0.843\n",
      "MSE: 962881259.040\n",
      "R2: 0.844\n",
      "MSE: 951440734.353\n",
      "R2: 0.807\n",
      "MSE: 1062025528.857\n",
      "R2: 0.854\n",
      "MSE: 928991679.393\n",
      "R2: 0.849\n",
      "MSE: 791834631.033\n",
      "R2: 0.840\n",
      "MSE: 1322590548.629\n",
      "R2: 0.819\n",
      "MSE: 965124149.188\n",
      "R2: 0.843\n",
      "MSE: 795545016.635\n",
      "R2: 0.839\n",
      "MSE: 1495803833.867\n",
      "R2: 0.795\n",
      "MSE: 974211532.732\n",
      "R2: 0.842\n",
      "MSE: 798664350.451\n",
      "R2: 0.838\n",
      "MSE: 1383473933.073\n",
      "R2: 0.810\n",
      "MSE: 1044531778.929\n",
      "R2: 0.830\n",
      "MSE: 804279200.592\n",
      "R2: 0.837\n",
      "MSE: 1526356447.551\n",
      "R2: 0.791\n",
      "MSE: 1653106876.767\n",
      "R2: 0.731\n",
      "MSE: 1673034914.256\n",
      "R2: 0.661\n",
      "MSE: 1864114637.513\n",
      "R2: 0.745\n",
      "MSE: 1011906113.693\n",
      "R2: 0.836\n",
      "MSE: 929406053.529\n",
      "R2: 0.812\n",
      "MSE: 1144128403.890\n",
      "R2: 0.843\n",
      "MSE: 1358800225.481\n",
      "R2: 0.779\n",
      "MSE: 1622188025.857\n",
      "R2: 0.672\n",
      "MSE: 1672387745.534\n",
      "R2: 0.771\n",
      "MSE: 1696885841.691\n",
      "R2: 0.724\n",
      "MSE: 1729662704.708\n",
      "R2: 0.650\n",
      "MSE: 1559684100.103\n",
      "R2: 0.786\n",
      "MSE: 1733700621.309\n",
      "R2: 0.718\n",
      "MSE: 1800027612.976\n",
      "R2: 0.636\n",
      "MSE: 1877419189.166\n",
      "R2: 0.743\n",
      "MSE: 969566412.282\n",
      "R2: 0.842\n",
      "MSE: 938870020.486\n",
      "R2: 0.810\n",
      "MSE: 1009591884.270\n",
      "R2: 0.862\n",
      "MSE: 975609260.154\n",
      "R2: 0.841\n",
      "MSE: 792811140.487\n",
      "R2: 0.840\n",
      "MSE: 1370797964.982\n",
      "R2: 0.812\n",
      "MSE: 1602200470.351\n",
      "R2: 0.740\n",
      "MSE: 1749535374.088\n",
      "R2: 0.646\n",
      "MSE: 1862481168.279\n",
      "R2: 0.745\n",
      "MSE: 972737060.594\n",
      "R2: 0.842\n",
      "MSE: 905764461.884\n",
      "R2: 0.817\n",
      "MSE: 1191910964.866\n",
      "R2: 0.837\n",
      "MSE: 1653315743.039\n",
      "R2: 0.731\n",
      "MSE: 1671092405.020\n",
      "R2: 0.662\n",
      "MSE: 1864237869.416\n",
      "R2: 0.745\n",
      "MSE: 1359296502.478\n",
      "R2: 0.779\n",
      "MSE: 1621821844.059\n",
      "R2: 0.672\n",
      "MSE: 1672244885.644\n",
      "R2: 0.771\n",
      "MSE: 939082494.451\n",
      "R2: 0.847\n",
      "MSE: 746809181.714\n",
      "R2: 0.849\n",
      "MSE: 1291261004.431\n",
      "R2: 0.823\n",
      "MSE: 988230321.258\n",
      "R2: 0.839\n",
      "MSE: 805985072.810\n",
      "R2: 0.837\n",
      "MSE: 1486032080.954\n",
      "R2: 0.796\n",
      "MSE: 1672933085.441\n",
      "R2: 0.728\n",
      "MSE: 1721667983.380\n",
      "R2: 0.652\n",
      "MSE: 1562291280.023\n",
      "R2: 0.786\n",
      "MSE: 1004585104.572\n",
      "R2: 0.837\n",
      "MSE: 791921568.048\n",
      "R2: 0.840\n",
      "MSE: 1494892373.216\n",
      "R2: 0.795\n",
      "MSE: 1079034045.571\n",
      "R2: 0.825\n",
      "MSE: 827040948.506\n",
      "R2: 0.833\n",
      "MSE: 1629745078.999\n",
      "R2: 0.777\n",
      "MSE: 963250576.000\n",
      "R2: 0.843\n",
      "MSE: 933704555.985\n",
      "R2: 0.811\n",
      "MSE: 1039957653.063\n",
      "R2: 0.858\n",
      "MSE: 911105959.305\n",
      "R2: 0.852\n",
      "MSE: 768174621.968\n",
      "R2: 0.845\n",
      "MSE: 1192111832.144\n",
      "R2: 0.837\n",
      "MSE: 1004593494.921\n",
      "R2: 0.837\n",
      "MSE: 785248257.679\n",
      "R2: 0.841\n",
      "MSE: 1483992282.341\n",
      "R2: 0.797\n",
      "MSE: 988274958.532\n",
      "R2: 0.839\n",
      "MSE: 807920724.564\n",
      "R2: 0.837\n",
      "MSE: 1487170894.670\n",
      "R2: 0.796\n",
      "MSE: 962022862.111\n",
      "R2: 0.844\n",
      "MSE: 903058252.952\n",
      "R2: 0.817\n",
      "MSE: 1166174635.764\n",
      "R2: 0.840\n",
      "MSE: 1009812324.851\n",
      "R2: 0.836\n",
      "MSE: 778108884.499\n",
      "R2: 0.843\n",
      "MSE: 1459176889.421\n",
      "R2: 0.800\n",
      "MSE: 1597825980.169\n",
      "R2: 0.740\n",
      "MSE: 1747127173.737\n",
      "R2: 0.646\n",
      "MSE: 1862698715.721\n",
      "R2: 0.745\n",
      "MSE: 910623792.813\n",
      "R2: 0.852\n",
      "MSE: 801774571.524\n",
      "R2: 0.838\n",
      "MSE: 1314909369.085\n",
      "R2: 0.820\n",
      "MSE: 1009922249.209\n",
      "R2: 0.836\n",
      "MSE: 936850407.808\n",
      "R2: 0.810\n",
      "MSE: 1120672073.716\n",
      "R2: 0.846\n",
      "MSE: 894848535.378\n",
      "R2: 0.855\n",
      "MSE: 788082008.892\n",
      "R2: 0.841\n",
      "MSE: 1147039605.124\n",
      "R2: 0.843\n",
      "MSE: 977566419.340\n",
      "R2: 0.841\n",
      "MSE: 802457830.296\n",
      "R2: 0.838\n",
      "MSE: 1487821314.703\n",
      "R2: 0.796\n",
      "MSE: 983385125.292\n",
      "R2: 0.840\n",
      "MSE: 808985602.976\n",
      "R2: 0.836\n",
      "MSE: 1455678213.359\n",
      "R2: 0.801\n",
      "MSE: 946257988.423\n",
      "R2: 0.846\n",
      "MSE: 760581189.670\n",
      "R2: 0.846\n",
      "MSE: 1286810715.890\n",
      "R2: 0.824\n",
      "MSE: 969344546.139\n",
      "R2: 0.842\n",
      "MSE: 953032405.268\n",
      "R2: 0.807\n",
      "MSE: 1056988818.610\n",
      "R2: 0.855\n",
      "MSE: 872928936.725\n",
      "R2: 0.858\n",
      "MSE: 782416287.157\n",
      "R2: 0.842\n",
      "MSE: 1181854091.170\n",
      "R2: 0.838\n",
      "MSE: 1081492167.273\n",
      "R2: 0.824\n",
      "MSE: 819921409.884\n",
      "R2: 0.834\n",
      "MSE: 1632393780.064\n",
      "R2: 0.776\n",
      "MSE: 989565722.868\n",
      "R2: 0.839\n",
      "MSE: 806987695.249\n",
      "R2: 0.837\n",
      "MSE: 1487703826.905\n",
      "R2: 0.796\n",
      "MSE: 1735821980.149\n",
      "R2: 0.718\n",
      "MSE: 1810358272.766\n",
      "R2: 0.634\n",
      "MSE: 1879146048.716\n",
      "R2: 0.743\n",
      "MSE: 950064759.594\n",
      "R2: 0.846\n",
      "MSE: 916248748.582\n",
      "R2: 0.815\n",
      "MSE: 1159028782.025\n",
      "R2: 0.841\n",
      "MSE: 1006265936.439\n",
      "R2: 0.836\n",
      "MSE: 804482086.965\n",
      "R2: 0.837\n",
      "MSE: 1541898289.465\n",
      "R2: 0.789\n",
      "MSE: 1068124407.917\n",
      "R2: 0.826\n",
      "MSE: 814109412.824\n",
      "R2: 0.835\n",
      "MSE: 1610265920.677\n",
      "R2: 0.779\n",
      "MSE: 971646999.953\n",
      "R2: 0.842\n",
      "MSE: 777279496.977\n",
      "R2: 0.843\n",
      "MSE: 1412945721.791\n",
      "R2: 0.806\n",
      "MSE: 1733853917.234\n",
      "R2: 0.718\n",
      "MSE: 1814814779.432\n",
      "R2: 0.633\n",
      "MSE: 1853263122.543\n",
      "R2: 0.746\n",
      "MSE: 972496663.207\n",
      "R2: 0.842\n",
      "MSE: 939962988.625\n",
      "R2: 0.810\n",
      "MSE: 1030522658.771\n",
      "R2: 0.859\n",
      "MSE: 1083162735.799\n",
      "R2: 0.824\n",
      "MSE: 816255750.063\n",
      "R2: 0.835\n",
      "MSE: 1659812813.680\n",
      "R2: 0.773\n"
     ]
    },
    {
     "name": "stderr",
     "output_type": "stream",
     "text": [
      "[Parallel(n_jobs=1)]: Done 150 out of 150 | elapsed: 13.1min finished\n"
     ]
    },
    {
     "data": {
      "text/plain": [
       "RandomizedSearchCV(cv=3, error_score='raise-deprecating',\n",
       "                   estimator=RandomForestRegressor(bootstrap=True,\n",
       "                                                   criterion='mse',\n",
       "                                                   max_depth=None,\n",
       "                                                   max_features='auto',\n",
       "                                                   max_leaf_nodes=None,\n",
       "                                                   min_impurity_decrease=0.0,\n",
       "                                                   min_impurity_split=None,\n",
       "                                                   min_samples_leaf=1,\n",
       "                                                   min_samples_split=2,\n",
       "                                                   min_weight_fraction_leaf=0.0,\n",
       "                                                   n_estimators='warn',\n",
       "                                                   n_jobs=None, oob_score=False,\n",
       "                                                   random_sta...\n",
       "                   iid='warn', n_iter=50, n_jobs=None,\n",
       "                   param_distributions={'bootstrap': [True, False],\n",
       "                                        'max_depth': [20, 40, 60, 80, 100,\n",
       "                                                      None],\n",
       "                                        'max_features': ['auto', 'sqrt'],\n",
       "                                        'min_samples_leaf': [1, 2, 4],\n",
       "                                        'min_samples_split': [2, 5, 10],\n",
       "                                        'n_estimators': [200, 400, 600, 800,\n",
       "                                                         1000]},\n",
       "                   pre_dispatch='2*n_jobs', random_state=8, refit=True,\n",
       "                   return_train_score=False, scoring=make_scorer(two_score),\n",
       "                   verbose=1)"
      ]
     },
     "execution_count": 63,
     "metadata": {},
     "output_type": "execute_result"
    }
   ],
   "source": [
    "# First create the base model to tune\n",
    "rfc = RandomForestRegressor(random_state=8)\n",
    "\n",
    "# Definition of the random search\n",
    "random_search = RandomizedSearchCV(estimator=rfc,\n",
    "                                   param_distributions=random_grid,\n",
    "                                   n_iter=50,\n",
    "                                   scoring=two_scorer(),\n",
    "                                   cv=3, \n",
    "                                   verbose=1, \n",
    "                                   random_state=8)\n",
    "\n",
    "# Fit the random search model\n",
    "random_search.fit(X_train, y_train)"
   ]
  },
  {
   "cell_type": "code",
   "execution_count": 64,
   "metadata": {},
   "outputs": [
    {
     "name": "stdout",
     "output_type": "stream",
     "text": [
      "The best hyperparameters from Random Search are:\n",
      "{'n_estimators': 200, 'min_samples_split': 2, 'min_samples_leaf': 1, 'max_features': 'sqrt', 'max_depth': 40, 'bootstrap': False}\n",
      "\n",
      "The best R-square of a model with these hyperparameters is:\n",
      "0.8459818026979666\n"
     ]
    }
   ],
   "source": [
    "print(\"The best hyperparameters from Random Search are:\")\n",
    "print(random_search.best_params_)\n",
    "print(\"\")\n",
    "print(\"The best R-square of a model with these hyperparameters is:\")\n",
    "print(random_search.best_score_)"
   ]
  },
  {
   "cell_type": "code",
   "execution_count": 65,
   "metadata": {},
   "outputs": [
    {
     "name": "stdout",
     "output_type": "stream",
     "text": [
      "Fitting 3 folds for each of 27 candidates, totalling 81 fits\n"
     ]
    },
    {
     "name": "stderr",
     "output_type": "stream",
     "text": [
      "[Parallel(n_jobs=1)]: Using backend SequentialBackend with 1 concurrent workers.\n"
     ]
    },
    {
     "name": "stdout",
     "output_type": "stream",
     "text": [
      "MSE: 875781653.359\n",
      "R2: 0.852\n",
      "MSE: 559255856.494\n",
      "R2: 0.892\n",
      "MSE: 834604872.544\n",
      "R2: 0.859\n",
      "MSE: 880714424.338\n",
      "R2: 0.851\n",
      "MSE: 563852666.258\n",
      "R2: 0.891\n",
      "MSE: 843726310.601\n",
      "R2: 0.858\n",
      "MSE: 865466254.234\n",
      "R2: 0.853\n",
      "MSE: 565067666.454\n",
      "R2: 0.891\n",
      "MSE: 847870496.957\n",
      "R2: 0.857\n",
      "MSE: 912863646.995\n",
      "R2: 0.845\n",
      "MSE: 612237891.009\n",
      "R2: 0.882\n",
      "MSE: 862726442.984\n",
      "R2: 0.854\n",
      "MSE: 912863646.995\n",
      "R2: 0.845\n",
      "MSE: 612237891.009\n",
      "R2: 0.882\n",
      "MSE: 862726442.984\n",
      "R2: 0.854\n",
      "MSE: 912863646.995\n",
      "R2: 0.845\n",
      "MSE: 612237891.009\n",
      "R2: 0.882\n",
      "MSE: 862726442.984\n",
      "R2: 0.854\n",
      "MSE: 1013669059.537\n",
      "R2: 0.828\n",
      "MSE: 636382384.019\n",
      "R2: 0.877\n",
      "MSE: 899618778.399\n",
      "R2: 0.848\n",
      "MSE: 1013669059.537\n",
      "R2: 0.828\n",
      "MSE: 636382384.019\n",
      "R2: 0.877\n",
      "MSE: 899618778.399\n",
      "R2: 0.848\n",
      "MSE: 1013669059.537\n",
      "R2: 0.828\n",
      "MSE: 636382384.019\n",
      "R2: 0.877\n",
      "MSE: 899618778.399\n",
      "R2: 0.848\n",
      "MSE: 875781653.359\n",
      "R2: 0.852\n",
      "MSE: 559255856.494\n",
      "R2: 0.892\n",
      "MSE: 834604872.544\n",
      "R2: 0.859\n",
      "MSE: 880714424.338\n",
      "R2: 0.851\n",
      "MSE: 563852666.258\n",
      "R2: 0.891\n",
      "MSE: 843726310.601\n",
      "R2: 0.858\n",
      "MSE: 865466254.234\n",
      "R2: 0.853\n",
      "MSE: 565067666.454\n",
      "R2: 0.891\n",
      "MSE: 847870496.957\n",
      "R2: 0.857\n",
      "MSE: 912863646.995\n",
      "R2: 0.845\n",
      "MSE: 612237891.009\n",
      "R2: 0.882\n",
      "MSE: 862726442.984\n",
      "R2: 0.854\n",
      "MSE: 912863646.995\n",
      "R2: 0.845\n",
      "MSE: 612237891.009\n",
      "R2: 0.882\n",
      "MSE: 862726442.984\n",
      "R2: 0.854\n",
      "MSE: 912863646.995\n",
      "R2: 0.845\n",
      "MSE: 612237891.009\n",
      "R2: 0.882\n",
      "MSE: 862726442.984\n",
      "R2: 0.854\n",
      "MSE: 1013669059.537\n",
      "R2: 0.828\n",
      "MSE: 636382384.019\n",
      "R2: 0.877\n",
      "MSE: 899618778.399\n",
      "R2: 0.848\n",
      "MSE: 1013669059.537\n",
      "R2: 0.828\n",
      "MSE: 636382384.019\n",
      "R2: 0.877\n",
      "MSE: 899618778.399\n",
      "R2: 0.848\n",
      "MSE: 1013669059.537\n",
      "R2: 0.828\n",
      "MSE: 636382384.019\n",
      "R2: 0.877\n",
      "MSE: 899618778.399\n",
      "R2: 0.848\n",
      "MSE: 875781653.359\n",
      "R2: 0.852\n",
      "MSE: 559255856.494\n",
      "R2: 0.892\n",
      "MSE: 834604872.544\n",
      "R2: 0.859\n",
      "MSE: 880714424.338\n",
      "R2: 0.851\n",
      "MSE: 563852666.258\n",
      "R2: 0.891\n",
      "MSE: 843726310.601\n",
      "R2: 0.858\n",
      "MSE: 865466254.234\n",
      "R2: 0.853\n",
      "MSE: 565067666.454\n",
      "R2: 0.891\n",
      "MSE: 847870496.957\n",
      "R2: 0.857\n",
      "MSE: 912863646.995\n",
      "R2: 0.845\n",
      "MSE: 612237891.009\n",
      "R2: 0.882\n",
      "MSE: 862726442.984\n",
      "R2: 0.854\n",
      "MSE: 912863646.995\n",
      "R2: 0.845\n",
      "MSE: 612237891.009\n",
      "R2: 0.882\n",
      "MSE: 862726442.984\n",
      "R2: 0.854\n",
      "MSE: 912863646.995\n",
      "R2: 0.845\n",
      "MSE: 612237891.009\n",
      "R2: 0.882\n",
      "MSE: 862726442.984\n",
      "R2: 0.854\n",
      "MSE: 1013669059.537\n",
      "R2: 0.828\n",
      "MSE: 636382384.019\n",
      "R2: 0.877\n",
      "MSE: 899618778.399\n",
      "R2: 0.848\n",
      "MSE: 1013669059.537\n",
      "R2: 0.828\n",
      "MSE: 636382384.019\n",
      "R2: 0.877\n",
      "MSE: 899618778.399\n",
      "R2: 0.848\n",
      "MSE: 1013669059.537\n",
      "R2: 0.828\n",
      "MSE: 636382384.019\n",
      "R2: 0.877\n",
      "MSE: 899618778.399\n",
      "R2: 0.848\n"
     ]
    },
    {
     "name": "stderr",
     "output_type": "stream",
     "text": [
      "[Parallel(n_jobs=1)]: Done  81 out of  81 | elapsed:  3.0min finished\n"
     ]
    },
    {
     "data": {
      "text/plain": [
       "GridSearchCV(cv=ShuffleSplit(n_splits=3, random_state=8, test_size=0.33, train_size=None),\n",
       "             error_score='raise-deprecating',\n",
       "             estimator=RandomForestRegressor(bootstrap=True, criterion='mse',\n",
       "                                             max_depth=None,\n",
       "                                             max_features='auto',\n",
       "                                             max_leaf_nodes=None,\n",
       "                                             min_impurity_decrease=0.0,\n",
       "                                             min_impurity_split=None,\n",
       "                                             min_samples_leaf=1,\n",
       "                                             min_samples_split=2,\n",
       "                                             min_weight_fraction_leaf...\n",
       "                                             n_estimators='warn', n_jobs=None,\n",
       "                                             oob_score=False, random_state=8,\n",
       "                                             verbose=0, warm_start=False),\n",
       "             iid='warn', n_jobs=None,\n",
       "             param_grid={'bootstrap': [False], 'max_depth': [75, 100, 125],\n",
       "                         'max_features': ['sqrt'],\n",
       "                         'min_samples_leaf': [1, 2, 3],\n",
       "                         'min_samples_split': [2, 3, 4],\n",
       "                         'n_estimators': [800]},\n",
       "             pre_dispatch='2*n_jobs', refit=True, return_train_score=False,\n",
       "             scoring=make_scorer(two_score), verbose=1)"
      ]
     },
     "execution_count": 65,
     "metadata": {},
     "output_type": "execute_result"
    }
   ],
   "source": [
    "# Create the parameter grid based on the results of random search \n",
    "bootstrap = [False]\n",
    "max_depth = [75,100,125]\n",
    "max_features = ['sqrt']\n",
    "min_samples_leaf = [1,2,3]\n",
    "min_samples_split = [2,3,4]\n",
    "n_estimators = [800]\n",
    "\n",
    "param_grid = {\n",
    "    'bootstrap': bootstrap,\n",
    "    'max_depth': max_depth,\n",
    "    'max_features': max_features,\n",
    "    'min_samples_leaf': min_samples_leaf,\n",
    "    'min_samples_split': min_samples_split,\n",
    "    'n_estimators': n_estimators\n",
    "}\n",
    "\n",
    "\n",
    "# Manually create the splits in CV in order to be able to fix a random_state (GridSearchCV doesn't have that argument)\n",
    "cv_sets = ShuffleSplit(n_splits = 3, test_size = .33, random_state = 8)\n",
    "\n",
    "# Instantiate the grid search model\n",
    "grid_search = GridSearchCV(estimator=rfc, \n",
    "                           param_grid=param_grid,\n",
    "                           scoring=two_scorer(),\n",
    "                           cv=cv_sets,\n",
    "                           verbose=1)\n",
    "\n",
    "# Fit the grid search to the data\n",
    "grid_search.fit(X_train, y_train)"
   ]
  },
  {
   "cell_type": "code",
   "execution_count": 66,
   "metadata": {},
   "outputs": [
    {
     "name": "stdout",
     "output_type": "stream",
     "text": [
      "The best hyperparameters from Grid Search are:\n",
      "{'bootstrap': False, 'max_depth': 75, 'max_features': 'sqrt', 'min_samples_leaf': 1, 'min_samples_split': 2, 'n_estimators': 800}\n",
      "\n",
      "The best R-square of a model with these hyperparameters is:\n",
      "0.8677096269456144\n"
     ]
    }
   ],
   "source": [
    "print(\"The best hyperparameters from Grid Search are:\")\n",
    "print(grid_search.best_params_)\n",
    "print(\"\")\n",
    "print(\"The best R-square of a model with these hyperparameters is:\")\n",
    "print(grid_search.best_score_)"
   ]
  },
  {
   "cell_type": "code",
   "execution_count": 67,
   "metadata": {},
   "outputs": [
    {
     "data": {
      "text/plain": [
       "RandomForestRegressor(bootstrap=False, criterion='mse', max_depth=75,\n",
       "                      max_features='sqrt', max_leaf_nodes=None,\n",
       "                      min_impurity_decrease=0.0, min_impurity_split=None,\n",
       "                      min_samples_leaf=1, min_samples_split=2,\n",
       "                      min_weight_fraction_leaf=0.0, n_estimators=800,\n",
       "                      n_jobs=None, oob_score=False, random_state=8, verbose=0,\n",
       "                      warm_start=False)"
      ]
     },
     "execution_count": 67,
     "metadata": {},
     "output_type": "execute_result"
    }
   ],
   "source": [
    "best_rfc = grid_search.best_estimator_\n",
    "best_rfc.fit(X_train, y_train)"
   ]
  },
  {
   "cell_type": "code",
   "execution_count": 68,
   "metadata": {},
   "outputs": [],
   "source": [
    "pred_train_rf=best_rfc.predict(X_train)\n",
    "pred_test_rf=best_rfc.predict(X_val)"
   ]
  },
  {
   "cell_type": "code",
   "execution_count": 69,
   "metadata": {},
   "outputs": [
    {
     "name": "stdout",
     "output_type": "stream",
     "text": [
      "The training score is: \n",
      "0.999999995640281\n",
      "\n",
      "The test score is: \n",
      "0.886591908919807\n"
     ]
    }
   ],
   "source": [
    "print(\"The training score is: \")\n",
    "print(r2_score(y_train, pred_train_rf))\n",
    "print('')\n",
    "print(\"The test score is: \")\n",
    "print(r2_score(y_val, pred_test_rf))"
   ]
  },
  {
   "cell_type": "code",
   "execution_count": 70,
   "metadata": {},
   "outputs": [
    {
     "data": {
      "text/plain": [
       "RandomForestRegressor(bootstrap=False, criterion='mse', max_depth=40,\n",
       "                      max_features='sqrt', max_leaf_nodes=None,\n",
       "                      min_impurity_decrease=0.0, min_impurity_split=None,\n",
       "                      min_samples_leaf=1, min_samples_split=2,\n",
       "                      min_weight_fraction_leaf=0.0, n_estimators=200,\n",
       "                      n_jobs=None, oob_score=False, random_state=8, verbose=0,\n",
       "                      warm_start=False)"
      ]
     },
     "execution_count": 70,
     "metadata": {},
     "output_type": "execute_result"
    }
   ],
   "source": [
    "best_rgd = random_search.best_estimator_\n",
    "best_rgd.fit(X_train, y_train)"
   ]
  },
  {
   "cell_type": "code",
   "execution_count": 71,
   "metadata": {},
   "outputs": [],
   "source": [
    "pred_train_rgd=best_rgd.predict(X_train)\n",
    "pred_test_rgd=best_rgd.predict(X_val)"
   ]
  },
  {
   "cell_type": "code",
   "execution_count": 72,
   "metadata": {},
   "outputs": [
    {
     "name": "stdout",
     "output_type": "stream",
     "text": [
      "The training score is: \n",
      "0.9999999928230746\n",
      "\n",
      "The test score is: \n",
      "0.8867739712016471\n"
     ]
    }
   ],
   "source": [
    "print(\"The training score is: \")\n",
    "print(r2_score(y_train, pred_train_rgd))\n",
    "print('')\n",
    "print(\"The test score is: \")\n",
    "print(r2_score(y_val, pred_test_rgd))"
   ]
  },
  {
   "cell_type": "markdown",
   "metadata": {},
   "source": [
    "plt.title('Feature Importances for Random Forest Model')\n",
    "plt.barh(range(len(indices_rf)), importances_rf[indices_rf], color='b', align='center')\n",
    "plt.yticks(range(len(indices_rf)), [features[i] for i in indices_rf])\n",
    "plt.xlabel('Relative Importance')\n",
    "plt.show()"
   ]
  },
  {
   "cell_type": "code",
   "execution_count": 73,
   "metadata": {},
   "outputs": [],
   "source": [
    "import tensorflow as tf\n",
    "learning_rate = 0.01\n",
    "#training_epochs = 1000\n",
    "#display_step = 30\n",
    "#n_samples=X_train.shape[0]"
   ]
  },
  {
   "cell_type": "code",
   "execution_count": 74,
   "metadata": {},
   "outputs": [],
   "source": [
    "y_train=np.asarray(y_train).reshape(1161,1)"
   ]
  },
  {
   "cell_type": "code",
   "execution_count": 75,
   "metadata": {},
   "outputs": [],
   "source": [
    "n=321\n",
    "# Placeholder that is fed input data.\n",
    "x = tf.placeholder(tf.float32, [None, n], \"X_in\")\n",
    "\n",
    "# The model: we assume y = X_in * w + b\n",
    "w = tf.Variable(tf.random_normal([n, 1]), name=\"w\")\n",
    "b = tf.Variable(tf.constant(1.0,shape=[]), name=\"b\")\n",
    "h = tf.add(tf.matmul(x, w), b, name=\"h\")\n",
    "\n",
    "# Placeholder that is fed observed results.\n",
    "Y = tf.placeholder(tf.float32, [None, 1], \"y_in\")\n",
    "\n",
    "# The loss function: we are minimizing square root of mean \n",
    "loss_op = tf.reduce_mean(tf.square(tf.subtract(Y, h)), name=\"loss\")\n",
    "train_op = tf.train.AdamOptimizer(learning_rate).minimize(loss_op)\n",
    "\n",
    "with tf.Session() as sess:\n",
    "    sess.run(tf.global_variables_initializer())\n",
    "    for step in range(2000):\n",
    "        sess.run(train_op, feed_dict={\n",
    "          x: np.asarray(X_train), \n",
    "          Y: np.asarray(y_train)\n",
    "        })\n",
    "    w_computed = sess.run(w)\n",
    "    b_computed = sess.run(b)"
   ]
  },
  {
   "cell_type": "markdown",
   "metadata": {},
   "source": [
    "w_computed=pd.DataFrame(w_computed)\n",
    "b_computed=pd.DataFrame(columns=[b_computed])"
   ]
  },
  {
   "cell_type": "code",
   "execution_count": 76,
   "metadata": {},
   "outputs": [
    {
     "name": "stdout",
     "output_type": "stream",
     "text": [
      "The shape of input matrix\n",
      "(1161, 321)\n",
      "The shape of weight matrix\n",
      "(321, 1)\n"
     ]
    }
   ],
   "source": [
    "X_tra=np.asarray(X_train)\n",
    "print('The shape of input matrix')\n",
    "print(X_tra.shape)\n",
    "print('The shape of weight matrix')\n",
    "print(w_computed.shape)"
   ]
  },
  {
   "cell_type": "code",
   "execution_count": 77,
   "metadata": {},
   "outputs": [
    {
     "name": "stdout",
     "output_type": "stream",
     "text": [
      "The training MSE score is: \n",
      "MSE: 38190697245.979\n",
      "38190697245.9793\n"
     ]
    }
   ],
   "source": [
    "result_tf = [[sum(a * b for a, b in zip(A_row, B_col))  \n",
    "                        for B_col in zip(*w_computed)] \n",
    "                                for A_row in X_tra] \n",
    "\n",
    "y_pred_tf= [x + b_computed for x in result_tf]\n",
    "\n",
    "y_pred_tf=pd.DataFrame(y_pred_tf)\n",
    "\n",
    "print(\"The training MSE score is: \")\n",
    "print(MSE(y_train, y_pred_tf))"
   ]
  },
  {
   "cell_type": "code",
   "execution_count": 78,
   "metadata": {},
   "outputs": [
    {
     "name": "stdout",
     "output_type": "stream",
     "text": [
      "The shape of input matrix\n",
      "(291, 321)\n",
      "The shape of weight matrix\n",
      "(321, 1)\n"
     ]
    }
   ],
   "source": [
    "X_valid=np.asarray(X_val)\n",
    "print('The shape of input matrix')\n",
    "print(X_valid.shape)\n",
    "print('The shape of weight matrix')\n",
    "print(w_computed.shape)"
   ]
  },
  {
   "cell_type": "code",
   "execution_count": 79,
   "metadata": {},
   "outputs": [
    {
     "name": "stdout",
     "output_type": "stream",
     "text": [
      "The validation MSE score is: \n",
      "MSE: 40347027337.633\n",
      "40347027337.63315\n"
     ]
    }
   ],
   "source": [
    "result_val_tf = [[sum(a * b for a, b in zip(A_row, B_col))  \n",
    "                        for B_col in zip(*w_computed)] \n",
    "                                for A_row in X_valid] \n",
    "\n",
    "y_pred_val_tf= [x + b_computed for x in result_val_tf]\n",
    "\n",
    "y_pred_val_tf=pd.DataFrame(y_pred_val_tf)\n",
    "\n",
    "print(\"The validation MSE score is: \")\n",
    "print(MSE(y_val, y_pred_val_tf))"
   ]
  },
  {
   "cell_type": "markdown",
   "metadata": {},
   "source": [
    "#Dimensionality Reduction using Linear Auto Encoders"
   ]
  },
  {
   "cell_type": "code",
   "execution_count": 80,
   "metadata": {},
   "outputs": [],
   "source": [
    "from tensorflow.contrib.layers import fully_connected\n",
    "num_inputs=321\n",
    "num_hidden=100\n",
    "num_outputs=num_inputs\n",
    "learning_rate=0.01"
   ]
  },
  {
   "cell_type": "code",
   "execution_count": 81,
   "metadata": {},
   "outputs": [],
   "source": [
    "x=tf.placeholder(tf.float32,shape=[None,num_inputs])"
   ]
  },
  {
   "cell_type": "code",
   "execution_count": 82,
   "metadata": {},
   "outputs": [
    {
     "name": "stdout",
     "output_type": "stream",
     "text": [
      "WARNING: Entity <bound method Dense.call of <tensorflow.python.layers.core.Dense object at 0x7fa73f14fef0>> could not be transformed and will be executed as-is. Please report this to the AutgoGraph team. When filing the bug, set the verbosity to 10 (on Linux, `export AUTOGRAPH_VERBOSITY=10`) and attach the full output. Cause: converting <bound method Dense.call of <tensorflow.python.layers.core.Dense object at 0x7fa73f14fef0>>: AssertionError: Bad argument number for Name: 3, expecting 4\n",
      "WARNING: Entity <bound method Dense.call of <tensorflow.python.layers.core.Dense object at 0x7fa73f14feb8>> could not be transformed and will be executed as-is. Please report this to the AutgoGraph team. When filing the bug, set the verbosity to 10 (on Linux, `export AUTOGRAPH_VERBOSITY=10`) and attach the full output. Cause: converting <bound method Dense.call of <tensorflow.python.layers.core.Dense object at 0x7fa73f14feb8>>: AssertionError: Bad argument number for Name: 3, expecting 4\n"
     ]
    }
   ],
   "source": [
    "hidden=fully_connected(x,num_hidden,activation_fn=None)\n",
    "outputs=fully_connected(hidden,num_outputs,activation_fn=None)"
   ]
  },
  {
   "cell_type": "code",
   "execution_count": 83,
   "metadata": {},
   "outputs": [],
   "source": [
    "loss=tf.reduce_mean(tf.square(outputs-x))"
   ]
  },
  {
   "cell_type": "code",
   "execution_count": 84,
   "metadata": {},
   "outputs": [],
   "source": [
    "optimizer=tf.train.AdamOptimizer(learning_rate)\n",
    "trainer=optimizer.minimize(loss)"
   ]
  },
  {
   "cell_type": "code",
   "execution_count": 85,
   "metadata": {},
   "outputs": [],
   "source": [
    "init=tf.global_variables_initializer()"
   ]
  },
  {
   "cell_type": "code",
   "execution_count": 86,
   "metadata": {},
   "outputs": [],
   "source": [
    "num_steps=1000\n",
    "\n",
    "with tf.Session() as sess:\n",
    "    sess.run(init)\n",
    "    \n",
    "    for iteration in range(num_steps):\n",
    "        sess.run(trainer,feed_dict={x:X})\n",
    "        \n",
    "    output_100d=hidden.eval(feed_dict={x:X})"
   ]
  },
  {
   "cell_type": "code",
   "execution_count": 87,
   "metadata": {},
   "outputs": [],
   "source": [
    "X_train_ae, X_val_ae, y_train_ae, y_val_ae = train_test_split(output_100d, y, test_size=0.20,random_state=123)"
   ]
  },
  {
   "cell_type": "code",
   "execution_count": 88,
   "metadata": {},
   "outputs": [],
   "source": [
    "from sklearn.linear_model import LinearRegression\n",
    "lr=LinearRegression()"
   ]
  },
  {
   "cell_type": "code",
   "execution_count": 89,
   "metadata": {},
   "outputs": [],
   "source": [
    "moodel=lr.fit(X_train_ae,y_train_ae)"
   ]
  },
  {
   "cell_type": "code",
   "execution_count": 90,
   "metadata": {},
   "outputs": [
    {
     "data": {
      "text/plain": [
       "0.8771563298792842"
      ]
     },
     "execution_count": 90,
     "metadata": {},
     "output_type": "execute_result"
    }
   ],
   "source": [
    "y_pred_lr=lr.predict(X_train_ae)\n",
    "r2_score(y_pred_lr,y_train_ae)"
   ]
  },
  {
   "cell_type": "code",
   "execution_count": 91,
   "metadata": {},
   "outputs": [
    {
     "data": {
      "text/plain": [
       "0.8846415314239603"
      ]
     },
     "execution_count": 91,
     "metadata": {},
     "output_type": "execute_result"
    }
   ],
   "source": [
    "y_pred_test_lr=lr.predict(X_val_ae)\n",
    "r2_score(y_pred_test_lr,y_val_ae)"
   ]
  },
  {
   "cell_type": "code",
   "execution_count": null,
   "metadata": {},
   "outputs": [],
   "source": []
  }
 ],
 "metadata": {
  "kernelspec": {
   "display_name": "Python 3",
   "language": "python",
   "name": "python3"
  },
  "language_info": {
   "codemirror_mode": {
    "name": "ipython",
    "version": 3
   },
   "file_extension": ".py",
   "mimetype": "text/x-python",
   "name": "python",
   "nbconvert_exporter": "python",
   "pygments_lexer": "ipython3",
   "version": "3.6.6"
  }
 },
 "nbformat": 4,
 "nbformat_minor": 1
}
